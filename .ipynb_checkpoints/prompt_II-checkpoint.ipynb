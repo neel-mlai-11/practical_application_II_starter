{
 "cells": [
  {
   "cell_type": "markdown",
   "metadata": {
    "id": "rhqte4_s2I83"
   },
   "source": [
    "# What drives the price of a car?\n",
    "\n",
    "![](images/kurt.jpeg)"
   ]
  },
  {
   "cell_type": "markdown",
   "metadata": {
    "id": "MyrFeyXZ2I87"
   },
   "source": [
    "**OVERVIEW**\n",
    "\n",
    "In this application, you will explore a dataset from kaggle. The original dataset contained information on 3 million used cars. The provided dataset contains information on 426K cars to ensure speed of processing.  Your goal is to understand what factors make a car more or less expensive.  As a result of your analysis, you should provide clear recommendations to your client -- a used car dealership -- as to what consumers value in a used car."
   ]
  },
  {
   "cell_type": "markdown",
   "metadata": {
    "id": "p__AxkbX2I88",
    "tags": []
   },
   "source": [
    "### CRISP-DM Framework\n",
    "\n",
    "<center>\n",
    "    <img src = images/crisp.png width = 50%/>\n",
    "</center>\n",
    "\n",
    "\n",
    "To frame the task, throughout our practical applications we will refer back to a standard process in industry for data projects called CRISP-DM.  This process provides a framework for working through a data problem.  Your first step in this application will be to read through a brief overview of CRISP-DM [here](https://mo-pcco.s3.us-east-1.amazonaws.com/BH-PCMLAI/module_11/readings_starter.zip).  After reading the overview, answer the questions below."
   ]
  },
  {
   "cell_type": "markdown",
   "metadata": {
    "id": "GtZfTNaF2I88"
   },
   "source": [
    "### Business Understanding\n",
    "\n",
    "From a business perspective, we are tasked with identifying key drivers for used car prices.  In the CRISP-DM overview, we are asked to convert this business framing to a data problem definition.  Using a few sentences, reframe the task as a data task with the appropriate technical vocabulary."
   ]
  },
  {
   "cell_type": "markdown",
   "metadata": {
    "executionInfo": {
     "elapsed": 247,
     "status": "ok",
     "timestamp": 1713895330893,
     "user": {
      "displayName": "Anand Tongle",
      "userId": "07741781442001313372"
     },
     "user_tz": 420
    },
    "id": "33Toh_a-2I89",
    "tags": []
   },
   "source": [
    "The primary objective of the analysis is to understand the factors that influence the pricing of used cars. By analyzing the dataset, the goal is to identify key features or characteristics of used cars that contribute to higher or lower prices.The analysis will focus on a dataset containing information on 426,000 used cars. The dataset includes various attributes such as the car's year of manufacture, make and model, condition, odometer reading, fuel type, transmission type, and more. Data preprocessing steps such as handling missing values, encoding categorical variables, and scaling numerical features will be necessary to prepare the data for modeling.\n",
    " "
   ]
  },
  {
   "cell_type": "markdown",
   "metadata": {
    "id": "F1T6ZrkW2I9A"
   },
   "source": [
    "### Data Understanding\n",
    "\n",
    "After considering the business understanding, we want to get familiar with our data.  Write down some steps that you would take to get to know the dataset and identify any quality issues within.  Take time to get to know the dataset and explore what information it contains and how this could be used to inform your business understanding."
   ]
  },
  {
   "cell_type": "code",
   "execution_count": 2,
   "metadata": {
    "executionInfo": {
     "elapsed": 5,
     "status": "ok",
     "timestamp": 1713895331085,
     "user": {
      "displayName": "Anand Tongle",
      "userId": "07741781442001313372"
     },
     "user_tz": 420
    },
    "id": "Bg3w51hw2I9B",
    "tags": []
   },
   "outputs": [],
   "source": [
    "## Import required  libraries    for data processing\n",
    "import numpy as np \n",
    "import pandas as pd \n",
    "import os\n",
    "import matplotlib.pyplot as plt\n",
    "import seaborn as sns"
   ]
  },
  {
   "cell_type": "code",
   "execution_count": 3,
   "metadata": {
    "colab": {
     "base_uri": "https://localhost:8080/",
     "height": 577
    },
    "executionInfo": {
     "elapsed": 1608,
     "status": "ok",
     "timestamp": 1713895333596,
     "user": {
      "displayName": "Anand Tongle",
      "userId": "07741781442001313372"
     },
     "user_tz": 420
    },
    "id": "wxWk3fzQ2I9B",
    "outputId": "6e961f24-8899-4594-aa35-cac73b15e881",
    "tags": []
   },
   "outputs": [
    {
     "name": "stdout",
     "output_type": "stream",
     "text": [
      "<class 'pandas.core.frame.DataFrame'>\n",
      "RangeIndex: 426880 entries, 0 to 426879\n",
      "Data columns (total 18 columns):\n",
      " #   Column        Non-Null Count   Dtype  \n",
      "---  ------        --------------   -----  \n",
      " 0   id            426880 non-null  int64  \n",
      " 1   region        426880 non-null  object \n",
      " 2   price         426880 non-null  int64  \n",
      " 3   year          425675 non-null  float64\n",
      " 4   manufacturer  409234 non-null  object \n",
      " 5   model         421603 non-null  object \n",
      " 6   condition     252776 non-null  object \n",
      " 7   cylinders     249202 non-null  object \n",
      " 8   fuel          423867 non-null  object \n",
      " 9   odometer      422480 non-null  float64\n",
      " 10  title_status  418638 non-null  object \n",
      " 11  transmission  424324 non-null  object \n",
      " 12  VIN           265838 non-null  object \n",
      " 13  drive         296313 non-null  object \n",
      " 14  size          120519 non-null  object \n",
      " 15  type          334022 non-null  object \n",
      " 16  paint_color   296677 non-null  object \n",
      " 17  state         426880 non-null  object \n",
      "dtypes: float64(2), int64(2), object(14)\n",
      "memory usage: 58.6+ MB\n"
     ]
    },
    {
     "data": {
      "text/html": [
       "<div>\n",
       "<style scoped>\n",
       "    .dataframe tbody tr th:only-of-type {\n",
       "        vertical-align: middle;\n",
       "    }\n",
       "\n",
       "    .dataframe tbody tr th {\n",
       "        vertical-align: top;\n",
       "    }\n",
       "\n",
       "    .dataframe thead th {\n",
       "        text-align: right;\n",
       "    }\n",
       "</style>\n",
       "<table border=\"1\" class=\"dataframe\">\n",
       "  <thead>\n",
       "    <tr style=\"text-align: right;\">\n",
       "      <th></th>\n",
       "      <th>id</th>\n",
       "      <th>region</th>\n",
       "      <th>price</th>\n",
       "      <th>year</th>\n",
       "      <th>manufacturer</th>\n",
       "      <th>model</th>\n",
       "      <th>condition</th>\n",
       "      <th>cylinders</th>\n",
       "      <th>fuel</th>\n",
       "      <th>odometer</th>\n",
       "      <th>title_status</th>\n",
       "      <th>transmission</th>\n",
       "      <th>VIN</th>\n",
       "      <th>drive</th>\n",
       "      <th>size</th>\n",
       "      <th>type</th>\n",
       "      <th>paint_color</th>\n",
       "      <th>state</th>\n",
       "    </tr>\n",
       "  </thead>\n",
       "  <tbody>\n",
       "    <tr>\n",
       "      <th>0</th>\n",
       "      <td>7222695916</td>\n",
       "      <td>prescott</td>\n",
       "      <td>6000</td>\n",
       "      <td>NaN</td>\n",
       "      <td>NaN</td>\n",
       "      <td>NaN</td>\n",
       "      <td>NaN</td>\n",
       "      <td>NaN</td>\n",
       "      <td>NaN</td>\n",
       "      <td>NaN</td>\n",
       "      <td>NaN</td>\n",
       "      <td>NaN</td>\n",
       "      <td>NaN</td>\n",
       "      <td>NaN</td>\n",
       "      <td>NaN</td>\n",
       "      <td>NaN</td>\n",
       "      <td>NaN</td>\n",
       "      <td>az</td>\n",
       "    </tr>\n",
       "    <tr>\n",
       "      <th>1</th>\n",
       "      <td>7218891961</td>\n",
       "      <td>fayetteville</td>\n",
       "      <td>11900</td>\n",
       "      <td>NaN</td>\n",
       "      <td>NaN</td>\n",
       "      <td>NaN</td>\n",
       "      <td>NaN</td>\n",
       "      <td>NaN</td>\n",
       "      <td>NaN</td>\n",
       "      <td>NaN</td>\n",
       "      <td>NaN</td>\n",
       "      <td>NaN</td>\n",
       "      <td>NaN</td>\n",
       "      <td>NaN</td>\n",
       "      <td>NaN</td>\n",
       "      <td>NaN</td>\n",
       "      <td>NaN</td>\n",
       "      <td>ar</td>\n",
       "    </tr>\n",
       "    <tr>\n",
       "      <th>2</th>\n",
       "      <td>7221797935</td>\n",
       "      <td>florida keys</td>\n",
       "      <td>21000</td>\n",
       "      <td>NaN</td>\n",
       "      <td>NaN</td>\n",
       "      <td>NaN</td>\n",
       "      <td>NaN</td>\n",
       "      <td>NaN</td>\n",
       "      <td>NaN</td>\n",
       "      <td>NaN</td>\n",
       "      <td>NaN</td>\n",
       "      <td>NaN</td>\n",
       "      <td>NaN</td>\n",
       "      <td>NaN</td>\n",
       "      <td>NaN</td>\n",
       "      <td>NaN</td>\n",
       "      <td>NaN</td>\n",
       "      <td>fl</td>\n",
       "    </tr>\n",
       "  </tbody>\n",
       "</table>\n",
       "</div>"
      ],
      "text/plain": [
       "           id        region  price  year manufacturer model condition  \\\n",
       "0  7222695916      prescott   6000   NaN          NaN   NaN       NaN   \n",
       "1  7218891961  fayetteville  11900   NaN          NaN   NaN       NaN   \n",
       "2  7221797935  florida keys  21000   NaN          NaN   NaN       NaN   \n",
       "\n",
       "  cylinders fuel  odometer title_status transmission  VIN drive size type  \\\n",
       "0       NaN  NaN       NaN          NaN          NaN  NaN   NaN  NaN  NaN   \n",
       "1       NaN  NaN       NaN          NaN          NaN  NaN   NaN  NaN  NaN   \n",
       "2       NaN  NaN       NaN          NaN          NaN  NaN   NaN  NaN  NaN   \n",
       "\n",
       "  paint_color state  \n",
       "0         NaN    az  \n",
       "1         NaN    ar  \n",
       "2         NaN    fl  "
      ]
     },
     "execution_count": 3,
     "metadata": {},
     "output_type": "execute_result"
    }
   ],
   "source": [
    "# Read the data and print information \n",
    "df = pd.read_csv(\"data/vehicles.csv\", low_memory=False)\n",
    "df.info()\n",
    "df.head(3)"
   ]
  },
  {
   "cell_type": "code",
   "execution_count": null,
   "metadata": {
    "executionInfo": {
     "elapsed": 6,
     "status": "ok",
     "timestamp": 1713895333596,
     "user": {
      "displayName": "Anand Tongle",
      "userId": "07741781442001313372"
     },
     "user_tz": 420
    },
    "id": "NLx0P9w82I9C"
   },
   "outputs": [],
   "source": []
  },
  {
   "cell_type": "code",
   "execution_count": 4,
   "metadata": {
    "colab": {
     "base_uri": "https://localhost:8080/"
    },
    "executionInfo": {
     "elapsed": 6,
     "status": "ok",
     "timestamp": 1713895333596,
     "user": {
      "displayName": "Anand Tongle",
      "userId": "07741781442001313372"
     },
     "user_tz": 420
    },
    "id": "iD7gMyhl2I9C",
    "outputId": "3b497766-b55a-4553-c882-39549d1fc3a8",
    "scrolled": true
   },
   "outputs": [
    {
     "data": {
      "text/html": [
       "<div>\n",
       "<style scoped>\n",
       "    .dataframe tbody tr th:only-of-type {\n",
       "        vertical-align: middle;\n",
       "    }\n",
       "\n",
       "    .dataframe tbody tr th {\n",
       "        vertical-align: top;\n",
       "    }\n",
       "\n",
       "    .dataframe thead th {\n",
       "        text-align: right;\n",
       "    }\n",
       "</style>\n",
       "<table border=\"1\" class=\"dataframe\">\n",
       "  <thead>\n",
       "    <tr style=\"text-align: right;\">\n",
       "      <th></th>\n",
       "      <th>id</th>\n",
       "      <th>price</th>\n",
       "      <th>year</th>\n",
       "      <th>odometer</th>\n",
       "    </tr>\n",
       "  </thead>\n",
       "  <tbody>\n",
       "    <tr>\n",
       "      <th>count</th>\n",
       "      <td>4.268800e+05</td>\n",
       "      <td>4.268800e+05</td>\n",
       "      <td>425675.000000</td>\n",
       "      <td>4.224800e+05</td>\n",
       "    </tr>\n",
       "    <tr>\n",
       "      <th>mean</th>\n",
       "      <td>7.311487e+09</td>\n",
       "      <td>7.519903e+04</td>\n",
       "      <td>2011.235191</td>\n",
       "      <td>9.804333e+04</td>\n",
       "    </tr>\n",
       "    <tr>\n",
       "      <th>std</th>\n",
       "      <td>4.473170e+06</td>\n",
       "      <td>1.218228e+07</td>\n",
       "      <td>9.452120</td>\n",
       "      <td>2.138815e+05</td>\n",
       "    </tr>\n",
       "    <tr>\n",
       "      <th>min</th>\n",
       "      <td>7.207408e+09</td>\n",
       "      <td>0.000000e+00</td>\n",
       "      <td>1900.000000</td>\n",
       "      <td>0.000000e+00</td>\n",
       "    </tr>\n",
       "    <tr>\n",
       "      <th>25%</th>\n",
       "      <td>7.308143e+09</td>\n",
       "      <td>5.900000e+03</td>\n",
       "      <td>2008.000000</td>\n",
       "      <td>3.770400e+04</td>\n",
       "    </tr>\n",
       "    <tr>\n",
       "      <th>50%</th>\n",
       "      <td>7.312621e+09</td>\n",
       "      <td>1.395000e+04</td>\n",
       "      <td>2013.000000</td>\n",
       "      <td>8.554800e+04</td>\n",
       "    </tr>\n",
       "    <tr>\n",
       "      <th>75%</th>\n",
       "      <td>7.315254e+09</td>\n",
       "      <td>2.648575e+04</td>\n",
       "      <td>2017.000000</td>\n",
       "      <td>1.335425e+05</td>\n",
       "    </tr>\n",
       "    <tr>\n",
       "      <th>max</th>\n",
       "      <td>7.317101e+09</td>\n",
       "      <td>3.736929e+09</td>\n",
       "      <td>2022.000000</td>\n",
       "      <td>1.000000e+07</td>\n",
       "    </tr>\n",
       "  </tbody>\n",
       "</table>\n",
       "</div>"
      ],
      "text/plain": [
       "                 id         price           year      odometer\n",
       "count  4.268800e+05  4.268800e+05  425675.000000  4.224800e+05\n",
       "mean   7.311487e+09  7.519903e+04    2011.235191  9.804333e+04\n",
       "std    4.473170e+06  1.218228e+07       9.452120  2.138815e+05\n",
       "min    7.207408e+09  0.000000e+00    1900.000000  0.000000e+00\n",
       "25%    7.308143e+09  5.900000e+03    2008.000000  3.770400e+04\n",
       "50%    7.312621e+09  1.395000e+04    2013.000000  8.554800e+04\n",
       "75%    7.315254e+09  2.648575e+04    2017.000000  1.335425e+05\n",
       "max    7.317101e+09  3.736929e+09    2022.000000  1.000000e+07"
      ]
     },
     "execution_count": 4,
     "metadata": {},
     "output_type": "execute_result"
    }
   ],
   "source": [
    "## Find out the min, max \n",
    "df.describe()"
   ]
  },
  {
   "cell_type": "markdown",
   "metadata": {
    "id": "F1T6ZrkW2I9A",
    "tags": []
   },
   "source": [
    "### Data Analysis`\n",
    "Looking at the above charts We can infer that\n",
    "Most Cars are manufactured in year 2000 and afterwords\n",
    "Most cars are with clean title\n",
    "Most cars in good or excellent condition\n",
    "Most cars have less than or equal to 8 cyllinders\n",
    "Most cars are SUV, Sedan or Pickup/Truck\n",
    "Most cars have odomter in 20000-30000\n",
    "Most cars have fuel type as gas\n",
    "Most cars have automatic transmission\n",
    "\n"
   ]
  },
  {
   "cell_type": "code",
   "execution_count": null,
   "metadata": {},
   "outputs": [],
   "source": [
    "# Create a 2x2 grid for subplots\n",
    "\n",
    "sns.set(style=\"whitegrid\")  # Optional: set a seaborn style\n",
    "fig, axes = plt.subplots(6, 2, figsize=(20, 40))\n",
    "# Plot histograms on the subplots\n",
    "sns.histplot(df['year'], kde=False, ax=axes[0, 0],color=\"red\")\n",
    "axes[0, 0].set_title(\"Year\")\n",
    "\n",
    "sns.histplot(df['manufacturer'], kde=False, ax=axes[0, 1],color=\"red\")\n",
    "# Change X label direction on the second subplot\n",
    "axes[0, 1].tick_params(axis='x', rotation=45)\n",
    "axes[0, 1].set_title(\"Manufacturere\")\n",
    "\n",
    "sns.histplot(df['condition'], kde=False, ax=axes[1, 0],color=\"red\")\n",
    "axes[1, 0].set_title(\"Condition\")\n",
    "\n",
    "sns.histplot(df['title_status'], kde=False, ax=axes[1, 1],color=\"red\")\n",
    "axes[1, 1].set_title(\"Status of the Title\")\n",
    "\n",
    "sns.histplot(df['cylinders'], kde=False, ax=axes[2, 0],color=\"red\")\n",
    "axes[2, 0].set_title(\"# of cylinders\")\n",
    "\n",
    "sns.histplot(df['type'], kde=False, ax=axes[2, 1],color=\"red\")\n",
    "axes[2, 1].set_title(\"Type of car\")\n",
    "\n",
    "sns.histplot(df['size'], kde=False, ax=axes[3, 0],color=\"red\")\n",
    "axes[3, 0].set_title(\"Size of car\")\n",
    "\n",
    "sns.histplot(df['odometer'], kde=False, ax=axes[3, 1])\n",
    "axes[3, 1].set_title(\"# Miles Driven\")\n",
    "\n",
    "sns.histplot(df['drive'], kde=False, ax=axes[4, 0])\n",
    "axes[4, 0].set_title(\"Drive\")\n",
    "\n",
    "sns.histplot(df['fuel'], kde=False, ax=axes[4, 1])\n",
    "axes[4, 1].set_title(\"Type of fuel\")\n",
    "\n",
    "sns.histplot(df['transmission'], kde=False, ax=axes[5, 0])\n",
    "axes[5, 0].set_title(\"Transmission\")\n",
    "plt.tight_layout(pad=3.0)  \n",
    "\n",
    "plt.show()"
   ]
  },
  {
   "cell_type": "code",
   "execution_count": null,
   "metadata": {},
   "outputs": [],
   "source": []
  },
  {
   "cell_type": "markdown",
   "metadata": {
    "id": "ZD1ThhiN2I9D"
   },
   "source": [
    "### Data Preparation\n",
    "\n",
    "After our initial exploration and fine tuning of the business understanding, it is time to construct our final dataset prior to modeling.  Here, we want to make sure to handle any integrity issues and cleaning, the engineering of new features, any transformations that we believe should happen (scaling, logarithms, normalization, etc.), and general preparation for modeling with `sklearn`.\n",
    "\n",
    "Handle Missing values : either ignore rows with missing values OR update with appropriate value by analyzing other data\n",
    "Also remove columns with excessive missing values\n",
    "Remove Outliers : Remove data which is very far from majority of the data, very large or very small,unrealistic values (odometer more than few hundred thoudands, or clost zero for old cars.\n",
    "Transform categorical features in to one hot encoding\n",
    "Split the data into training and test datasets\n",
    "\n"
   ]
  },
  {
   "cell_type": "code",
   "execution_count": null,
   "metadata": {
    "tags": []
   },
   "outputs": [],
   "source": [
    "# Missing values\n",
    "print(\"\\nMissing values:\")\n",
    "print(df.isnull().sum())\n",
    "# Calculate percentage of missing values for each column\n",
    "missing_percentage = (df.isnull().sum() / len(df)) * 100\n",
    "\n",
    "# Display the percentage of missing values for each column\n",
    "print(\"Percentage of missing values for each column:\")\n",
    "print(missing_percentage)"
   ]
  },
  {
   "cell_type": "code",
   "execution_count": null,
   "metadata": {
    "tags": []
   },
   "outputs": [],
   "source": [
    "df.shape"
   ]
  },
  {
   "cell_type": "code",
   "execution_count": null,
   "metadata": {
    "tags": []
   },
   "outputs": [],
   "source": [
    "#Lets update some data, We know if model is f150 then it must be truck. we can check any entry which has model as f150 adn type is missing\n",
    "# we can update it as a truck. same for all the model and types\n",
    "\n",
    "# Get unique types\n",
    "unique_types = df['type'].unique()\n",
    "# Iterate over each unique type\n",
    "for type_val in unique_types:\n",
    "    # Get distinct truck models for the current type\n",
    "    models = df[df['type'] == type_val]['model'].unique()\n",
    "    # Update type to truck for rows where model matches and type is NaN\n",
    "    df.loc[df['model'].isin(models) & df['type'].isna(), 'type'] = type_val\n"
   ]
  },
  {
   "cell_type": "code",
   "execution_count": null,
   "metadata": {
    "tags": []
   },
   "outputs": [],
   "source": [
    "# Filter the DataFrame for entries with odometer less than 50 and year less than 2021\n",
    "print(\"Shape of the DataFrame before filtering:\", df.shape)\n",
    "\n",
    "df = df[(df['odometer'] >= 50) | (df['year'] >= 2021)]\n",
    "print(\"Shape of the DataFrame after filtering:\", df.shape)\n"
   ]
  },
  {
   "cell_type": "code",
   "execution_count": null,
   "metadata": {
    "tags": []
   },
   "outputs": [],
   "source": [
    "print(\"Shape of the DataFrame before filtering:\", df.shape)\n",
    "\n",
    "df=df[(df['price']<50000) & (df['price']>500)]\n",
    "print(\"Shape of the DataFrame after filtering:\", df.shape)\n",
    "\n"
   ]
  },
  {
   "cell_type": "code",
   "execution_count": null,
   "metadata": {
    "tags": []
   },
   "outputs": [],
   "source": [
    "print(\"Shape of the DataFrame before filtering:\", df.shape)\n",
    "\n",
    "## Production year only post 1995\n",
    "df=df[(df['year']>1995)]\n",
    "print(\"Shape of the DataFrame after filtering:\", df.shape)\n"
   ]
  },
  {
   "cell_type": "code",
   "execution_count": null,
   "metadata": {
    "tags": []
   },
   "outputs": [],
   "source": [
    "## Get rid of cars with different cylinders\n",
    "print(\"Shape of the DataFrame before filtering:\", df.shape)\n",
    "\n",
    "df=df[(df['cylinders']!='other')]\n",
    "df=df[(df['cylinders']!='12 cylinders')]\n",
    "print(\"Shape of the DataFrame after filtering:\", df.shape)\n"
   ]
  },
  {
   "cell_type": "code",
   "execution_count": null,
   "metadata": {},
   "outputs": [],
   "source": []
  },
  {
   "cell_type": "code",
   "execution_count": null,
   "metadata": {
    "tags": []
   },
   "outputs": [],
   "source": [
    "df['title_status'].value_counts()"
   ]
  },
  {
   "cell_type": "code",
   "execution_count": null,
   "metadata": {
    "tags": []
   },
   "outputs": [],
   "source": [
    "df['year'].value_counts()"
   ]
  },
  {
   "cell_type": "code",
   "execution_count": null,
   "metadata": {
    "tags": []
   },
   "outputs": [],
   "source": [
    "df['odometer'].value_counts()"
   ]
  },
  {
   "cell_type": "code",
   "execution_count": null,
   "metadata": {
    "tags": []
   },
   "outputs": [],
   "source": [
    "# Filter the DataFrame to exclude rows with prices below $1000\n",
    "print(\"Shape of the DataFrame before removing rows:\", df.shape)\n",
    "df = df[df['price'] >= 1000]\n",
    "# Print the shape of the DataFrame before and after removing rows\n",
    "print(\"Shape of the DataFrame before removing rows:\", df.shape)\n"
   ]
  },
  {
   "cell_type": "code",
   "execution_count": null,
   "metadata": {
    "tags": []
   },
   "outputs": [],
   "source": [
    "print(\"Shape of the DataFrame before removing rows:\", df.shape)\n",
    "# Filter the DataFrame to exclude rows corresponding to cars older than 1995\n",
    "df = df[df['year'] >= 1995]\n",
    "# Print the shape of the DataFrame before and after removing rows\n",
    "print(\"Shape of the DataFrame before removing rows:\", df.shape)"
   ]
  },
  {
   "cell_type": "code",
   "execution_count": null,
   "metadata": {
    "tags": []
   },
   "outputs": [],
   "source": [
    "# Filter the DataFrame to exclude rows with \"parts only\" values in the 'title_status' column\n",
    "df = df[df['title_status'] != 'parts only']"
   ]
  },
  {
   "cell_type": "code",
   "execution_count": null,
   "metadata": {
    "tags": []
   },
   "outputs": [],
   "source": [
    "# Drop Columns which are not meaningful for car price or has lots of missing values\n",
    "df=df.drop(columns=['id', 'VIN', 'size', 'model', 'region', 'state', 'paint_color'], axis=1)\n",
    "df.dropna(inplace=True)\n",
    "print (\"Ratio of the clean data vs original data = \", round((df.shape[0]/426879)*100, 2))\n",
    "df.shape"
   ]
  },
  {
   "cell_type": "code",
   "execution_count": null,
   "metadata": {
    "tags": []
   },
   "outputs": [],
   "source": [
    "# USe One Hot Encoding for Categorical/Non numerical Features\n",
    "from sklearn.preprocessing import LabelEncoder\n",
    "# Perform one-hot encoding for all remaining categorical columns\n",
    "df_encoded = pd.get_dummies(df, columns=[ 'condition','manufacturer', 'fuel', 'title_status', 'transmission', 'type'])\n",
    "\n",
    "# Convert any remaining non-numeric columns to numeric using label encoding if needed\n",
    "from sklearn.preprocessing import LabelEncoder\n",
    "\n",
    "label_encoder = LabelEncoder()\n",
    "for column in df_encoded.columns:\n",
    "    if df_encoded[column].dtype == 'object':\n",
    "        df_encoded[column] = label_encoder.fit_transform(df_encoded[column])"
   ]
  },
  {
   "cell_type": "code",
   "execution_count": null,
   "metadata": {
    "tags": []
   },
   "outputs": [],
   "source": [
    "# print Final data rows to be used for modeling\n",
    "df_encoded.shape\n"
   ]
  },
  {
   "cell_type": "code",
   "execution_count": null,
   "metadata": {
    "tags": []
   },
   "outputs": [],
   "source": [
    "# Check If any Missing values\n",
    "print(\"\\nMissing values:\")\n",
    "print(df.isnull().sum())\n",
    "# Calculate percentage of missing values for each column\n",
    "missing_percentage = (df.isnull().sum() / len(df)) * 100\n",
    "\n"
   ]
  },
  {
   "cell_type": "code",
   "execution_count": null,
   "metadata": {
    "tags": []
   },
   "outputs": [],
   "source": [
    "print (df_encoded.head(3))\n",
    "\n",
    "# Separate features and target variable (if applicable)\n",
    "X = df_encoded.drop(columns=['price'], axis=1)  # Drop target column if present\n",
    "y = df_encoded['price']  # Extract target column if present\n",
    "\n",
    "X = X.astype(int)"
   ]
  },
  {
   "cell_type": "code",
   "execution_count": null,
   "metadata": {
    "executionInfo": {
     "elapsed": 3,
     "status": "ok",
     "timestamp": 1713895352542,
     "user": {
      "displayName": "Anand Tongle",
      "userId": "07741781442001313372"
     },
     "user_tz": 420
    },
    "id": "aB0uK6Gv2I9F",
    "tags": []
   },
   "outputs": [],
   "source": [
    "from sklearn.model_selection import train_test_split\n",
    "\n",
    "# Simple data split\n",
    "X_train, X_test, y_train, y_test = train_test_split(X, y, test_size=0.3, random_state=42)\n"
   ]
  },
  {
   "cell_type": "code",
   "execution_count": null,
   "metadata": {
    "executionInfo": {
     "elapsed": 2,
     "status": "ok",
     "timestamp": 1713895352542,
     "user": {
      "displayName": "Anand Tongle",
      "userId": "07741781442001313372"
     },
     "user_tz": 420
    },
    "id": "o2vFDS6z2I9F"
   },
   "outputs": [],
   "source": []
  },
  {
   "cell_type": "markdown",
   "metadata": {
    "id": "InGucWpI2I9F"
   },
   "source": [
    "### Modeling\n",
    "\n",
    "With your (almost?) final dataset in hand, it is now time to build some models.  Here, you should build a number of different regression models with the price as the target.  In building your models, you should explore different parameters and be sure to cross-validate your findings.\n",
    "\n",
    "Simple Linear regression and Lasso regression models are implemnted\n",
    "Also implemented ridge model"
   ]
  },
  {
   "cell_type": "code",
   "execution_count": null,
   "metadata": {
    "tags": []
   },
   "outputs": [],
   "source": [
    "# Train the Model\n",
    "simple_model = LinearRegression()\n",
    "simple_model.fit(X_train, y_train)\n",
    "\n",
    "# Evaluate the Simple Model\n",
    "y_pred = simple_model.predict(X_test)\n",
    "\n",
    "mse = mean_squared_error(y_test, y_pred)\n",
    "\n",
    "# Calculate overall RMSE\n",
    "overall_rmse = np.sqrt(mse)\n",
    "print(\"Mean Squared Error:\", mse, overall_rmse)\n",
    "\n",
    "# Calculate the squared errors for each point\n",
    "squared_errors = (y_test - y_pred) ** 2\n",
    "\n",
    "# Calculate the RMSE for each point\n",
    "point_rmse = np.sqrt(squared_errors)\n",
    "print (\"RMSE = \", point_rmse) "
   ]
  },
  {
   "cell_type": "code",
   "execution_count": null,
   "metadata": {
    "executionInfo": {
     "elapsed": 7881,
     "status": "ok",
     "timestamp": 1713895987257,
     "user": {
      "displayName": "Anand Tongle",
      "userId": "07741781442001313372"
     },
     "user_tz": 420
    },
    "id": "2Pgxcs2o2I9F",
    "tags": []
   },
   "outputs": [],
   "source": [
    "# Lasso Regression with hyperparameter tuning\n",
    "pipe1 = Pipeline([\n",
    "    ('poly_features', PolynomialFeatures(degree=1, include_bias=False)),  \n",
    "    ('scaler', StandardScaler()),  \n",
    "    ('linear_regression', Lasso())  \n",
    "])\n",
    "\n",
    "# Define a grid of hyperparameters for tuning\n",
    "grid1 = {\n",
    "    'linear_regression__alpha': [1,10, 100]\n",
    "     # Different values for Lasso's alpha (regularization strength)\n",
    "}\n",
    "\n",
    "# Set up GridSearchCV to find the best alpha\n",
    "gs_lasso = GridSearchCV(pipe1, grid1, scoring='neg_mean_squared_error', cv=5, n_jobs=-1)  \n",
    "gs_lasso.fit(X_train, y_train)  \n",
    "\n",
    "# Find the best model and evaluate\n",
    "best_model_lasso = gs_lasso.best_estimator_\n",
    "best_params_lasso = gs_lasso.best_params_\n",
    "\n",
    "y_pred_lasso = best_model_lasso.predict(X_test)\n",
    "mse_lasso = mean_squared_error(y_test, y_pred_lasso)\n",
    "\n",
    "# Calculate the squared errors for each point\n",
    "squared_errors_lasso = (y_test - y_pred_lasso) ** 2\n",
    "# Calculate the RMSE for each point\n",
    "rmse_lasso = np.sqrt(squared_errors_lasso)"
   ]
  },
  {
   "cell_type": "code",
   "execution_count": null,
   "metadata": {
    "executionInfo": {
     "elapsed": 10,
     "status": "aborted",
     "timestamp": 1713895466229,
     "user": {
      "displayName": "Anand Tongle",
      "userId": "07741781442001313372"
     },
     "user_tz": 420
    },
    "id": "CHxvGui32I9L",
    "tags": []
   },
   "outputs": [],
   "source": [
    "\n",
    "from sklearn.pipeline import Pipeline\n",
    "from sklearn.model_selection import GridSearchCV\n",
    "from sklearn.linear_model import LinearRegression, Ridge, Lasso\n",
    "from sklearn.preprocessing import PolynomialFeatures, StandardScaler, OneHotEncoder\n",
    "from sklearn.compose import make_column_transformer, TransformedTargetRegressor\n",
    "from sklearn.inspection import permutation_importance\n",
    "from sklearn.feature_selection import SequentialFeatureSelector\n",
    "import numpy as np\n",
    "import plotly.express as px\n",
    "import pandas as pd\n",
    "import warnings\n",
    "import matplotlib.pyplot as plt\n",
    "import scipy as sp\n",
    "import seaborn as sns\n",
    "from sklearn.compose import make_column_transformer\n",
    "from sklearn.preprocessing import OneHotEncoder\n",
    "from sklearn.model_selection import train_test_split\n",
    "from sklearn.metrics import median_absolute_error\n",
    "\n",
    "XX= df.drop(columns=['price'], axis=1)  # Drop target column if present\n",
    "yy = df['price']  # Extract target column if present\n",
    "\n",
    "Xx_train, Xx_test, yy_train, yy_test = train_test_split(XX, yy, random_state=42)\n",
    "\n",
    "\n",
    "categorical_columns=[ 'condition','manufacturer','cylinders', 'fuel', 'title_status', 'transmission', 'type','drive']\n",
    "numerical_columns = [\"year\", \"odometer\"]\n",
    "\n",
    "preprocessor = make_column_transformer(\n",
    "    (OneHotEncoder(drop=\"if_binary\"), categorical_columns),\n",
    "    remainder=\"passthrough\",\n",
    "    verbose_feature_names_out=False,  # avoid to prepend the preprocessor names\n",
    ")\n",
    "\n",
    "from sklearn.compose import TransformedTargetRegressor\n",
    "from sklearn.linear_model import Ridge\n",
    "from sklearn.pipeline import make_pipeline\n",
    "\n",
    "# List of alpha values for Ridge regularization\n",
    "alphas = [0.001, 0.01, 0.1, 1, 10, 100]\n",
    "\n",
    "# Dictionary to store results\n",
    "results = {}\n",
    "for alpha in alphas: \n",
    "    model = make_pipeline(\n",
    "      preprocessor,\n",
    "      TransformedTargetRegressor(\n",
    "        regressor=Ridge(alpha=alpha), func=np.log10, inverse_func=sp.special.exp10\n",
    "     ),\n",
    "    )\n",
    "\n",
    "    model.fit(Xx_train, yy_train)\n",
    "    mae_train = median_absolute_error(yy_train, model.predict(Xx_train))\n",
    "    yy_pred = model.predict(Xx_test)\n",
    "    mae_test = median_absolute_error(yy_test, yy_pred)\n",
    "\n",
    "    results[alpha] = {\n",
    " #       'model': model,\n",
    "        'mae_train': mae_train,\n",
    "        'mae_test':  mae_test  \n",
    "    }\n",
    "    scores = {\n",
    "    \"MedAE on training set\": f\"{mae_train:.2f} \",\n",
    "    \"MedAE on testing set\": f\"{mae_test:.2f} \",\n",
    "    }    \n",
    "for alpha, result in results.items():\n",
    "    print(f\"Alpha: {str(alpha).ljust(10)} MAE_TRAIN: {result['mae_train']:.3f} MAE_TEST: {result['mae_test']:.3f}\")\n",
    "print (scores)\n",
    "\n",
    "\n",
    "\n",
    "\n",
    "\n"
   ]
  },
  {
   "cell_type": "markdown",
   "metadata": {
    "id": "84Q0SpaH2I9L"
   },
   "source": [
    "### Evaluation\n",
    "\n",
    "With some modeling accomplished, we aim to reflect on what we identify as a high quality model and what we are able to learn from this.  We should review our business objective and explore how well we can provide meaningful insight on drivers of used car prices.  Your goal now is to distill your findings and determine whether the earlier phases need revisitation and adjustment or if you have information of value to bring back to your client.\n",
    "\n",
    "Errors are Calculated and plotted for simple regression and lasso models"
   ]
  },
  {
   "cell_type": "code",
   "execution_count": 358,
   "metadata": {
    "tags": []
   },
   "outputs": [
    {
     "name": "stdout",
     "output_type": "stream",
     "text": [
      "Linear Regression : Best parameters: {'poly_features__degree': 1}\n",
      "Linear Regression : Mean Squared Error and Root Mean Square Error: 2.1575950490446963e+27 46449919795890.89\n"
     ]
    },
    {
     "data": {
      "image/png": "[encoded data removed]",
      "text/plain": [
       "<Figure size 640x480 with 1 Axes>"
      ]
     },
     "metadata": {},
     "output_type": "display_data"
    }
   ],
   "source": [
    "print(\"Linear Regression : Best parameters:\", best_params)\n",
    "print(\"Linear Regression : Mean Squared Error and Root Mean Square Error:\", mse_linear, np.sqrt(mse_linear))\n",
    "\n",
    "#X_test = X_test.reset_index()\n",
    "# Scatter plot of actual data\n",
    "plt.scatter(X_test.index, y_test, label='Actual Data')\n",
    "# Line plot for predicted data\n",
    "plt.scatter(X_test.index, y_pred, label='Predicted Data')\n",
    "# Scatter plot of RMSE values\n",
    "plt.scatter(X_test.index, point_rmse, label='RMSE for Each Point', s=100, alpha=0.5)\n",
    "\n",
    "plt.xlabel(\"X\")\n",
    "plt.ylabel(\"Y / Error\")\n",
    "plt.title(\"Linear Regression with RMSE for Each Point\")\n",
    "plt.legend()\n",
    "plt.show()"
   ]
  },
  {
   "cell_type": "code",
   "execution_count": 354,
   "metadata": {
    "colab": {
     "base_uri": "https://localhost:8080/",
     "height": 507
    },
    "executionInfo": {
     "elapsed": 1175,
     "status": "ok",
     "timestamp": 1713895964610,
     "user": {
      "displayName": "Anand Tongle",
      "userId": "07741781442001313372"
     },
     "user_tz": 420
    },
    "id": "FZQqUCLD2I9L",
    "outputId": "65172a4d-4481-4662-8d6d-a20555f5cc1b",
    "tags": []
   },
   "outputs": [
    {
     "name": "stdout",
     "output_type": "stream",
     "text": [
      "Lasso Regression : BEST PARAMETERS :: {'linear_regression__alpha': 1}\n",
      "Lasso Regression : MSE & Root RMSE :: 36344889.76716996 6028.67230550558\n"
     ]
    },
    {
     "data": {
      "image/png": "[encoded data removed]",
      "text/plain": [
       "<Figure size 640x480 with 1 Axes>"
      ]
     },
     "metadata": {},
     "output_type": "display_data"
    }
   ],
   "source": [
    "print(\"Lasso Regression : BEST PARAMETERS ::\", best_params_lasso)\n",
    "print(\"Lasso Regression : MSE & Root RMSE ::\", mse_lasso, np.sqrt(mse_lasso))\n",
    "\n",
    "# Scatter plot of actual data\n",
    "plt.scatter(X_test.index, y_test, label='Actual Data')\n",
    "# Line plot for predicted data\n",
    "plt.scatter(X_test.index, y_pred_lasso, label='Predicted Data')\n",
    "# Scatter plot of RMSE values\n",
    "plt.scatter(X_test.index, rmse_lasso, label='RMSE ',  s=100, alpha=0.5)\n",
    "\n",
    "plt.xlabel(\"X\")\n",
    "plt.ylabel(\"ERROR\")\n",
    "plt.title(\"Lasso Regression with RMSE\" )\n",
    "plt.legend()\n",
    "plt.show()"
   ]
  },
  {
   "cell_type": "markdown",
   "metadata": {
    "id": "Y2BoaeaO2I9M"
   },
   "source": [
    "### Deployment\n",
    "\n",
    "Now that we've settled on our models and findings, it is time to deliver the information to the client.  You should organize your work as a basic report that details your primary findings.  Keep in mind that your audience is a group of used car dealers interested in fine tuning their inventory.\n",
    "\n"
   ]
  },
  {
   "cell_type": "code",
   "execution_count": 1,
   "metadata": {
    "colab": {
     "base_uri": "https://localhost:8080/",
     "height": 1000
    },
    "executionInfo": {
     "elapsed": 33122,
     "status": "ok",
     "timestamp": 1713896083404,
     "user": {
      "displayName": "Anand Tongle",
      "userId": "07741781442001313372"
     },
     "user_tz": 420
    },
    "id": "iRD5Vo_X2I9M",
    "outputId": "e8264339-6872-4250-f396-93d9f1aac66d",
    "tags": []
   },
   "outputs": [
    {
     "ename": "NameError",
     "evalue": "name 'best_model_lasso' is not defined",
     "output_type": "error",
     "traceback": [
      "\u001b[1;31m---------------------------------------------------------------------------\u001b[0m",
      "\u001b[1;31mNameError\u001b[0m                                 Traceback (most recent call last)",
      "Cell \u001b[1;32mIn[1], line 4\u001b[0m\n\u001b[0;32m      1\u001b[0m \u001b[38;5;28;01mfrom\u001b[39;00m \u001b[38;5;21;01msklearn\u001b[39;00m\u001b[38;5;21;01m.\u001b[39;00m\u001b[38;5;21;01minspection\u001b[39;00m \u001b[38;5;28;01mimport\u001b[39;00m permutation_importance\n\u001b[0;32m      3\u001b[0m \u001b[38;5;66;03m# Calculate permutation importance\u001b[39;00m\n\u001b[1;32m----> 4\u001b[0m perm_importance \u001b[38;5;241m=\u001b[39m permutation_importance(best_model_lasso, X_test, y_test, n_repeats\u001b[38;5;241m=\u001b[39m\u001b[38;5;241m10\u001b[39m, random_state\u001b[38;5;241m=\u001b[39m\u001b[38;5;241m42\u001b[39m)\n\u001b[0;32m      6\u001b[0m \u001b[38;5;66;03m# Get feature names\u001b[39;00m\n\u001b[0;32m      7\u001b[0m feature_names \u001b[38;5;241m=\u001b[39m X_test\u001b[38;5;241m.\u001b[39mcolumns\n",
      "\u001b[1;31mNameError\u001b[0m: name 'best_model_lasso' is not defined"
     ]
    }
   ],
   "source": [
    "\n",
    "from sklearn.inspection import permutation_importance\n",
    "\n",
    "# Calculate permutation importance\n",
    "perm_importance = permutation_importance(best_model_lasso, X_test, y_test, n_repeats=10, random_state=42)\n",
    "\n",
    "# Get feature names\n",
    "feature_names = X_test.columns\n",
    "\n",
    "# Sort features by their importance\n",
    "sorted_indices = perm_importance.importances_mean.argsort()[::-1]\n",
    "\n",
    "# Print the permutation importance of each feature\n",
    "print(\"Permutation Importance:\")\n",
    "for i in sorted_indices:\n",
    "    print(f\"{feature_names[i]}: {perm_importance.importances_mean[i]:.4f} +/- {perm_importance.importances_std[i]:.4f}\")\n",
    "\n",
    "\n",
    "\n"
   ]
  },
  {
   "cell_type": "code",
   "execution_count": null,
   "metadata": {},
   "outputs": [],
   "source": [
    "# Plot the permutation importance of top N=10 features\n",
    "N = 10  \n",
    "feature_indices = sorted_indices[:N]\n",
    "feature_names = [feature_names[i] for i in feature_indices]\n",
    "importances = perm_importance.importances_mean[feature_indices]\n",
    "\n",
    "plt.figure(figsize=(10, 6))\n",
    "plt.bar(range(N), importances, yerr=perm_importance.importances_std[feature_indices])\n",
    "plt.xticks(range(N), feature_names, rotation=90)\n",
    "plt.xlabel('FEATURE')\n",
    "plt.ylabel('PERMUTATIONIMPORTANCE')\n",
    "plt.title(f'Top {N} PI of FEATURS')\n",
    "plt.tight_layout()\n",
    "plt.show()"
   ]
  },
  {
   "cell_type": "code",
   "execution_count": 356,
   "metadata": {
    "executionInfo": {
     "elapsed": 10,
     "status": "aborted",
     "timestamp": 1713895466231,
     "user": {
      "displayName": "Anand Tongle",
      "userId": "07741781442001313372"
     },
     "user_tz": 420
    },
    "id": "p3uF2gs72I9M",
    "tags": []
   },
   "outputs": [
    {
     "name": "stdout",
     "output_type": "stream",
     "text": [
      "Permutation Importance:\n",
      "year: 0.6501 +/- 0.0054\n",
      "cylinders: 0.0953 +/- 0.0009\n",
      "type_sedan: 0.0434 +/- 0.0008\n",
      "transmission_other: 0.0335 +/- 0.0009\n",
      "transmission_automatic: 0.0280 +/- 0.0008\n",
      "fuel_diesel: 0.0275 +/- 0.0004\n",
      "odometer: 0.0197 +/- 0.0005\n",
      "type_truck: 0.0168 +/- 0.0004\n",
      "type_SUV: 0.0097 +/- 0.0005\n",
      "fuel_gas: 0.0083 +/- 0.0003\n",
      "type_hatchback: 0.0073 +/- 0.0003\n",
      "manufacturer_nissan: 0.0068 +/- 0.0004\n",
      "type_mini-van: 0.0054 +/- 0.0002\n",
      "type_pickup: 0.0045 +/- 0.0002\n",
      "manufacturer_chrysler: 0.0039 +/- 0.0002\n",
      "manufacturer_hyundai: 0.0039 +/- 0.0003\n",
      "type_convertible: 0.0039 +/- 0.0002\n",
      "manufacturer_toyota: 0.0036 +/- 0.0002\n",
      "manufacturer_lexus: 0.0034 +/- 0.0001\n",
      "manufacturer_kia: 0.0033 +/- 0.0001\n",
      "manufacturer_dodge: 0.0031 +/- 0.0002\n",
      "manufacturer_mercedes-benz: 0.0028 +/- 0.0002\n",
      "manufacturer_porsche: 0.0027 +/- 0.0002\n",
      "condition_like new: 0.0026 +/- 0.0002\n",
      "fuel_hybrid: 0.0023 +/- 0.0002\n",
      "manufacturer_volkswagen: 0.0022 +/- 0.0001\n",
      "title_status_clean: 0.0018 +/- 0.0002\n",
      "condition_fair: 0.0017 +/- 0.0002\n",
      "type_wagon: 0.0017 +/- 0.0001\n",
      "manufacturer_ford: 0.0015 +/- 0.0002\n",
      "type_coupe: 0.0014 +/- 0.0001\n",
      "manufacturer_jeep: 0.0011 +/- 0.0001\n",
      "type_other: 0.0009 +/- 0.0001\n",
      "condition_new: 0.0009 +/- 0.0001\n",
      "manufacturer_fiat: 0.0008 +/- 0.0001\n",
      "transmission_manual: 0.0008 +/- 0.0001\n",
      "manufacturer_rover: 0.0008 +/- 0.0001\n",
      "title_status_salvage: 0.0006 +/- 0.0001\n",
      "type_offroad: 0.0006 +/- 0.0001\n",
      "type_bus: 0.0005 +/- 0.0000\n",
      "type_van: 0.0005 +/- 0.0001\n",
      "title_status_rebuilt: 0.0004 +/- 0.0001\n",
      "title_status_lien: 0.0004 +/- 0.0001\n",
      "condition_excellent: 0.0004 +/- 0.0001\n",
      "manufacturer_alfa-romeo: 0.0004 +/- 0.0001\n",
      "manufacturer_jaguar: 0.0003 +/- 0.0001\n",
      "manufacturer_audi: 0.0003 +/- 0.0001\n",
      "manufacturer_buick: 0.0003 +/- 0.0001\n",
      "manufacturer_mazda: 0.0003 +/- 0.0001\n",
      "manufacturer_bmw: 0.0003 +/- 0.0001\n",
      "manufacturer_chevrolet: 0.0003 +/- 0.0000\n",
      "manufacturer_mini: 0.0003 +/- 0.0000\n",
      "drive: 0.0002 +/- 0.0000\n",
      "condition_salvage: 0.0002 +/- 0.0000\n",
      "fuel_other: 0.0002 +/- 0.0000\n",
      "manufacturer_saturn: 0.0001 +/- 0.0000\n",
      "manufacturer_lincoln: 0.0001 +/- 0.0000\n",
      "manufacturer_mitsubishi: 0.0001 +/- 0.0001\n",
      "manufacturer_mercury: 0.0001 +/- 0.0001\n",
      "manufacturer_harley-davidson: 0.0001 +/- 0.0000\n",
      "manufacturer_volvo: 0.0001 +/- 0.0000\n",
      "condition_good: 0.0000 +/- 0.0000\n",
      "manufacturer_cadillac: 0.0000 +/- 0.0000\n",
      "title_status_missing: 0.0000 +/- 0.0000\n",
      "manufacturer_pontiac: 0.0000 +/- 0.0000\n",
      "fuel_electric: 0.0000 +/- 0.0000\n",
      "manufacturer_infiniti: 0.0000 +/- 0.0000\n",
      "manufacturer_honda: 0.0000 +/- 0.0000\n",
      "manufacturer_gmc: 0.0000 +/- 0.0000\n",
      "manufacturer_ram: 0.0000 +/- 0.0000\n",
      "manufacturer_aston-martin: 0.0000 +/- 0.0000\n",
      "manufacturer_acura: -0.0000 +/- 0.0000\n",
      "manufacturer_subaru: -0.0000 +/- 0.0000\n",
      "manufacturer_land rover: -0.0000 +/- 0.0000\n"
     ]
    },
    {
     "data": {
      "image/png": "[encoded data removed]",
      "text/plain": [
       "<Figure size 1000x600 with 1 Axes>"
      ]
     },
     "metadata": {},
     "output_type": "display_data"
    }
   ],
   "source": [
    "from sklearn.inspection import permutation_importance\n",
    "\n",
    "# Calculate permutation importance\n",
    "perm_importance = permutation_importance(simple_model, X_test, y_test, n_repeats=10, random_state=42)\n",
    "\n",
    "# Get feature names\n",
    "feature_names = X_test.columns\n",
    "\n",
    "# Sort features by their importance\n",
    "sorted_indices = perm_importance.importances_mean.argsort()[::-1]\n",
    "\n",
    "# Print the permutation importance of each feature\n",
    "print(\"Permutation Importance:\")\n",
    "for i in sorted_indices:\n",
    "    print(f\"{feature_names[i]}: {perm_importance.importances_mean[i]:.4f} +/- {perm_importance.importances_std[i]:.4f}\")\n",
    "\n",
    "\n"
   ]
  },
  {
   "cell_type": "code",
   "execution_count": null,
   "metadata": {},
   "outputs": [],
   "source": [
    "# Plot the permutation importance of top N=10 features\n",
    "N = 10  \n",
    "feature_indices = sorted_indices[:N]\n",
    "feature_names = [feature_names[i] for i in feature_indices]\n",
    "importances = perm_importance.importances_mean[feature_indices]\n",
    "\n",
    "plt.figure(figsize=(10, 6))\n",
    "plt.bar(range(N), importances, yerr=perm_importance.importances_std[feature_indices])\n",
    "plt.xticks(range(N), feature_names, rotation=90)\n",
    "plt.xlabel('FEATURE')\n",
    "plt.ylabel('PERMUTATIONIMPORTANCE')\n",
    "plt.title(f'Top {N} PI of FEATURS')\n",
    "plt.tight_layout()\n",
    "plt.show()"
   ]
  },
  {
   "cell_type": "markdown",
   "metadata": {
    "executionInfo": {
     "elapsed": 10,
     "status": "aborted",
     "timestamp": 1713895466231,
     "user": {
      "displayName": "Anand Tongle",
      "userId": "07741781442001313372"
     },
     "user_tz": 420
    },
    "id": "BHTJ67tL2I9M"
   },
   "source": [
    "Findings\n",
    "For both linear regression and lasso regression , Year and Cyllinder contributes to the price of the car."
   ]
  },
  {
   "cell_type": "markdown",
   "metadata": {
    "executionInfo": {
     "elapsed": 10,
     "status": "aborted",
     "timestamp": 1713895466231,
     "user": {
      "displayName": "Anand Tongle",
      "userId": "07741781442001313372"
     },
     "user_tz": 420
    },
    "id": "6gJp9cDl2I9M"
   },
   "source": [
    "Next steps\n",
    "column model has lots of data which could be filtered properly so number of uniq values could be reducded.\n",
    "\n",
    "I tried to run with more filter with preserved data but ended up getting memory errors.\n"
   ]
  },
  {
   "cell_type": "code",
   "execution_count": null,
   "metadata": {
    "executionInfo": {
     "elapsed": 10,
     "status": "aborted",
     "timestamp": 1713895466231,
     "user": {
      "displayName": "Anand Tongle",
      "userId": "07741781442001313372"
     },
     "user_tz": 420
    },
    "id": "05JpHHg92I9M"
   },
   "outputs": [],
   "source": []
  },
  {
   "cell_type": "code",
   "execution_count": null,
   "metadata": {
    "executionInfo": {
     "elapsed": 10,
     "status": "aborted",
     "timestamp": 1713895466231,
     "user": {
      "displayName": "Anand Tongle",
      "userId": "07741781442001313372"
     },
     "user_tz": 420
    },
    "id": "lz9dC_WE2I9M"
   },
   "outputs": [],
   "source": []
  }
 ],
 "metadata": {
  "accelerator": "GPU",
  "colab": {
   "gpuType": "L4",
   "machine_shape": "hm",
   "provenance": []
  },
  "kernelspec": {
   "display_name": "Python 3 (ipykernel)",
   "language": "python",
   "name": "python3"
  },
  "language_info": {
   "codemirror_mode": {
    "name": "ipython",
    "version": 3
   },
   "file_extension": ".py",
   "mimetype": "text/x-python",
   "name": "python",
   "nbconvert_exporter": "python",
   "pygments_lexer": "ipython3",
   "version": "3.11.5"
  }
 },
 "nbformat": 4,
 "nbformat_minor": 4
}
