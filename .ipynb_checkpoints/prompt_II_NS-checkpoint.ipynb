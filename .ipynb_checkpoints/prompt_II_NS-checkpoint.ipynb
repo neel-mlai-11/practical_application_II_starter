{
 "cells": [
  {
   "cell_type": "markdown",
   "metadata": {},
   "source": [
    "# What drives the price of a car?\n",
    "\n",
    "![](images/kurt.jpeg)"
   ]
  },
  {
   "cell_type": "markdown",
   "metadata": {},
   "source": [
    "**OVERVIEW**\n",
    "\n",
    "In this application, you will explore a dataset from kaggle. The original dataset contained information on 3 million used cars. The provided dataset contains information on 426K cars to ensure speed of processing.  Your goal is to understand what factors make a car more or less expensive.  As a result of your analysis, you should provide clear recommendations to your client -- a used car dealership -- as to what consumers value in a used car."
   ]
  },
  {
   "cell_type": "markdown",
   "metadata": {},
   "source": [
    "### CRISP-DM Framework\n",
    "\n",
    "<center>\n",
    "    <img src = images/crisp.png width = 50%/>\n",
    "</center>\n",
    "\n",
    "\n",
    "To frame the task, throughout our practical applications we will refer back to a standard process in industry for data projects called CRISP-DM.  This process provides a framework for working through a data problem.  Your first step in this application will be to read through a brief overview of CRISP-DM [here](https://mo-pcco.s3.us-east-1.amazonaws.com/BH-PCMLAI/module_11/readings_starter.zip).  After reading the overview, answer the questions below."
   ]
  },
  {
   "cell_type": "markdown",
   "metadata": {
    "tags": []
   },
   "source": [
    "### Business Understanding\n",
    "\n",
    "From a business perspective, we are tasked with identifying key drivers for used car prices.  In the CRISP-DM overview, we are asked to convert this business framing to a data problem definition.  Using a few sentences, reframe the task as a data task with the appropriate technical vocabulary. "
   ]
  },
  {
   "cell_type": "markdown",
   "metadata": {},
   "source": [
    "The data task involves building a predictive model to understand the factors that most significantly impact the prices of used cars. This requires analyzing the dataset to identify correlations and patterns between various features (such as mileage, age, brand, etc.) and the sale prices of the cars. The goal is to create a model that can accurately predict the price of a used car based on its attributes. I will use linear regression based model to achive this goal"
   ]
  },
  {
   "cell_type": "code",
   "execution_count": null,
   "metadata": {},
   "outputs": [],
   "source": []
  },
  {
   "cell_type": "code",
   "execution_count": null,
   "metadata": {},
   "outputs": [],
   "source": []
  },
  {
   "cell_type": "code",
   "execution_count": null,
   "metadata": {},
   "outputs": [],
   "source": []
  },
  {
   "cell_type": "code",
   "execution_count": null,
   "metadata": {},
   "outputs": [],
   "source": []
  },
  {
   "cell_type": "markdown",
   "metadata": {},
   "source": [
    "### Data Understanding\n",
    "\n",
    "After considering the business understanding, we want to get familiar with our data.  Write down some steps that you would take to get to know the dataset and identify any quality issues within.  Take time to get to know the dataset and explore what information it contains and how this could be used to inform your business understanding."
   ]
  },
  {
   "cell_type": "code",
   "execution_count": 1,
   "metadata": {
    "tags": []
   },
   "outputs": [],
   "source": [
    "## In order to analyze data, we include following libraries \n",
    "import numpy as np # linear algebra\n",
    "import pandas as pd # data processing, CSV file I/O (e.g. pd.read_csv)\n",
    "import os\n",
    "import matplotlib.pyplot as plt\n",
    "import seaborn as sns"
   ]
  },
  {
   "cell_type": "code",
   "execution_count": 2,
   "metadata": {
    "tags": []
   },
   "outputs": [
    {
     "name": "stdout",
     "output_type": "stream",
     "text": [
      "<class 'pandas.core.frame.DataFrame'>\n",
      "RangeIndex: 426880 entries, 0 to 426879\n",
      "Data columns (total 18 columns):\n",
      " #   Column        Non-Null Count   Dtype  \n",
      "---  ------        --------------   -----  \n",
      " 0   id            426880 non-null  int64  \n",
      " 1   region        426880 non-null  object \n",
      " 2   price         426880 non-null  int64  \n",
      " 3   year          425675 non-null  float64\n",
      " 4   manufacturer  409234 non-null  object \n",
      " 5   model         421603 non-null  object \n",
      " 6   condition     252776 non-null  object \n",
      " 7   cylinders     249202 non-null  object \n",
      " 8   fuel          423867 non-null  object \n",
      " 9   odometer      422480 non-null  float64\n",
      " 10  title_status  418638 non-null  object \n",
      " 11  transmission  424324 non-null  object \n",
      " 12  VIN           265838 non-null  object \n",
      " 13  drive         296313 non-null  object \n",
      " 14  size          120519 non-null  object \n",
      " 15  type          334022 non-null  object \n",
      " 16  paint_color   296677 non-null  object \n",
      " 17  state         426880 non-null  object \n",
      "dtypes: float64(2), int64(2), object(14)\n",
      "memory usage: 58.6+ MB\n"
     ]
    },
    {
     "data": {
      "text/html": [
       "<div>\n",
       "<style scoped>\n",
       "    .dataframe tbody tr th:only-of-type {\n",
       "        vertical-align: middle;\n",
       "    }\n",
       "\n",
       "    .dataframe tbody tr th {\n",
       "        vertical-align: top;\n",
       "    }\n",
       "\n",
       "    .dataframe thead th {\n",
       "        text-align: right;\n",
       "    }\n",
       "</style>\n",
       "<table border=\"1\" class=\"dataframe\">\n",
       "  <thead>\n",
       "    <tr style=\"text-align: right;\">\n",
       "      <th></th>\n",
       "      <th>id</th>\n",
       "      <th>price</th>\n",
       "      <th>year</th>\n",
       "      <th>odometer</th>\n",
       "    </tr>\n",
       "  </thead>\n",
       "  <tbody>\n",
       "    <tr>\n",
       "      <th>count</th>\n",
       "      <td>4.268800e+05</td>\n",
       "      <td>4.268800e+05</td>\n",
       "      <td>425675.000000</td>\n",
       "      <td>4.224800e+05</td>\n",
       "    </tr>\n",
       "    <tr>\n",
       "      <th>mean</th>\n",
       "      <td>7.311487e+09</td>\n",
       "      <td>7.519903e+04</td>\n",
       "      <td>2011.235191</td>\n",
       "      <td>9.804333e+04</td>\n",
       "    </tr>\n",
       "    <tr>\n",
       "      <th>std</th>\n",
       "      <td>4.473170e+06</td>\n",
       "      <td>1.218228e+07</td>\n",
       "      <td>9.452120</td>\n",
       "      <td>2.138815e+05</td>\n",
       "    </tr>\n",
       "    <tr>\n",
       "      <th>min</th>\n",
       "      <td>7.207408e+09</td>\n",
       "      <td>0.000000e+00</td>\n",
       "      <td>1900.000000</td>\n",
       "      <td>0.000000e+00</td>\n",
       "    </tr>\n",
       "    <tr>\n",
       "      <th>25%</th>\n",
       "      <td>7.308143e+09</td>\n",
       "      <td>5.900000e+03</td>\n",
       "      <td>2008.000000</td>\n",
       "      <td>3.770400e+04</td>\n",
       "    </tr>\n",
       "    <tr>\n",
       "      <th>50%</th>\n",
       "      <td>7.312621e+09</td>\n",
       "      <td>1.395000e+04</td>\n",
       "      <td>2013.000000</td>\n",
       "      <td>8.554800e+04</td>\n",
       "    </tr>\n",
       "    <tr>\n",
       "      <th>75%</th>\n",
       "      <td>7.315254e+09</td>\n",
       "      <td>2.648575e+04</td>\n",
       "      <td>2017.000000</td>\n",
       "      <td>1.335425e+05</td>\n",
       "    </tr>\n",
       "    <tr>\n",
       "      <th>max</th>\n",
       "      <td>7.317101e+09</td>\n",
       "      <td>3.736929e+09</td>\n",
       "      <td>2022.000000</td>\n",
       "      <td>1.000000e+07</td>\n",
       "    </tr>\n",
       "  </tbody>\n",
       "</table>\n",
       "</div>"
      ],
      "text/plain": [
       "                 id         price           year      odometer\n",
       "count  4.268800e+05  4.268800e+05  425675.000000  4.224800e+05\n",
       "mean   7.311487e+09  7.519903e+04    2011.235191  9.804333e+04\n",
       "std    4.473170e+06  1.218228e+07       9.452120  2.138815e+05\n",
       "min    7.207408e+09  0.000000e+00    1900.000000  0.000000e+00\n",
       "25%    7.308143e+09  5.900000e+03    2008.000000  3.770400e+04\n",
       "50%    7.312621e+09  1.395000e+04    2013.000000  8.554800e+04\n",
       "75%    7.315254e+09  2.648575e+04    2017.000000  1.335425e+05\n",
       "max    7.317101e+09  3.736929e+09    2022.000000  1.000000e+07"
      ]
     },
     "execution_count": 2,
     "metadata": {},
     "output_type": "execute_result"
    }
   ],
   "source": [
    "df = pd.read_csv(\"data/vehicles.csv\", low_memory=False)\n",
    "df.info() \n",
    "df.tail(3)\n",
    "df.describe()"
   ]
  },
  {
   "cell_type": "markdown",
   "metadata": {},
   "source": [
    "### Data Preparation\n",
    "\n",
    "After our initial exploration and fine tuning of the business understanding, it is time to construct our final dataset prior to modeling.  Here, we want to make sure to handle any integrity issues and cleaning, the engineering of new features, any transformations that we believe should happen (scaling, logarithms, normalization, etc.), and general preparation for modeling with `sklearn`. "
   ]
  },
  {
   "cell_type": "code",
   "execution_count": 3,
   "metadata": {
    "tags": []
   },
   "outputs": [
    {
     "name": "stdout",
     "output_type": "stream",
     "text": [
      "\n",
      "Missing values:\n",
      "id                   0\n",
      "region               0\n",
      "price                0\n",
      "year              1205\n",
      "manufacturer     17646\n",
      "model             5277\n",
      "condition       174104\n",
      "cylinders       177678\n",
      "fuel              3013\n",
      "odometer          4400\n",
      "title_status      8242\n",
      "transmission      2556\n",
      "VIN             161042\n",
      "drive           130567\n",
      "size            306361\n",
      "type             92858\n",
      "paint_color     130203\n",
      "state                0\n",
      "dtype: int64\n",
      "Percentage of missing values for each column:\n",
      "id               0.000000\n",
      "region           0.000000\n",
      "price            0.000000\n",
      "year             0.282281\n",
      "manufacturer     4.133714\n",
      "model            1.236179\n",
      "condition       40.785232\n",
      "cylinders       41.622470\n",
      "fuel             0.705819\n",
      "odometer         1.030735\n",
      "title_status     1.930753\n",
      "transmission     0.598763\n",
      "VIN             37.725356\n",
      "drive           30.586347\n",
      "size            71.767476\n",
      "type            21.752717\n",
      "paint_color     30.501078\n",
      "state            0.000000\n",
      "dtype: float64\n"
     ]
    }
   ],
   "source": [
    "df.shape\n",
    "# Missing values\n",
    "print(\"\\nMissing values:\")\n",
    "print(df.isnull().sum())\n",
    "# Calculate percentage of missing values for each column\n",
    "missing_percentage = (df.isnull().sum() / len(df)) * 100\n",
    "\n",
    "# Display the percentage of missing values for each column\n",
    "print(\"Percentage of missing values for each column:\")\n",
    "print(missing_percentage)"
   ]
  },
  {
   "cell_type": "code",
   "execution_count": 4,
   "metadata": {
    "tags": []
   },
   "outputs": [
    {
     "name": "stdout",
     "output_type": "stream",
     "text": [
      "Columns dropped due to more than 30% missing values:\n",
      "Index(['condition', 'cylinders', 'VIN', 'drive', 'size', 'paint_color'], dtype='object')\n",
      "Shape of the DataFrame after dropping columns: (426880, 12)\n"
     ]
    }
   ],
   "source": [
    "# Drop columns with more than 30% missing values\n",
    "columns_to_drop = missing_percentage[missing_percentage > 30].index\n",
    "df.drop(columns=columns_to_drop, inplace=True)\n",
    "\n",
    "# Display the columns that were dropped\n",
    "print(\"Columns dropped due to more than 30% missing values:\")\n",
    "print(columns_to_drop)\n",
    "\n",
    "# Display the new shape of the DataFrame\n",
    "print(\"Shape of the DataFrame after dropping columns:\", df.shape)"
   ]
  },
  {
   "cell_type": "code",
   "execution_count": 5,
   "metadata": {
    "tags": []
   },
   "outputs": [],
   "source": [
    "#also drop id\n",
    "df.drop(columns='id', inplace=True)\n"
   ]
  },
  {
   "cell_type": "code",
   "execution_count": 6,
   "metadata": {
    "tags": []
   },
   "outputs": [
    {
     "data": {
      "text/plain": [
       "title_status\n",
       "clean         405117\n",
       "rebuilt         7219\n",
       "salvage         3868\n",
       "lien            1422\n",
       "missing          814\n",
       "parts only       198\n",
       "Name: count, dtype: int64"
      ]
     },
     "execution_count": 6,
     "metadata": {},
     "output_type": "execute_result"
    }
   ],
   "source": [
    "df.shape\n",
    "df['title_status'].value_counts()"
   ]
  },
  {
   "cell_type": "code",
   "execution_count": 7,
   "metadata": {
    "tags": []
   },
   "outputs": [
    {
     "name": "stdout",
     "output_type": "stream",
     "text": [
      "Shape of the DataFrame before removing rows: (426682, 11)\n"
     ]
    },
    {
     "data": {
      "image/png": "[encoded data removed]",
      "text/plain": [
       "<Figure size 1200x600 with 1 Axes>"
      ]
     },
     "metadata": {},
     "output_type": "display_data"
    }
   ],
   "source": [
    "# Filter the DataFrame to exclude rows with \"parts only\" values in the 'title_status' column\n",
    "df = df[df['title_status'] != 'parts only']\n",
    "\n",
    "# Print the shape of the DataFrame after removing rows\n",
    "print(\"Shape of the DataFrame before removing rows:\", df.shape)\n",
    "# Define the price intervals\n",
    "price_intervals = range(0, 350001, 10000)\n",
    "\n",
    "\n",
    "# Count the number of cars in each price interval\n",
    "price_counts = pd.cut(df['price'], bins=price_intervals, right=False).value_counts().sort_index()\n",
    "\n",
    "# Plotting the car prices vs count\n",
    "plt.figure(figsize=(12, 6))\n",
    "price_counts.plot(kind='bar', color='skyblue', edgecolor='black')\n",
    "plt.title('Car Prices vs Count')\n",
    "plt.xlabel('Price Interval')\n",
    "plt.ylabel('Count')\n",
    "plt.xticks(rotation=45, ha='right')\n",
    "plt.grid(axis='y', linestyle='--', alpha=0.7)\n",
    "plt.show()\n"
   ]
  },
  {
   "cell_type": "code",
   "execution_count": 8,
   "metadata": {
    "tags": []
   },
   "outputs": [
    {
     "name": "stdout",
     "output_type": "stream",
     "text": [
      "Shape of the DataFrame before dropping rows: (426682, 11)\n",
      "Shape of the DataFrame after dropping rows: (423548, 11)\n"
     ]
    }
   ],
   "source": [
    "print(\"Shape of the DataFrame before dropping rows:\", df.shape)\n",
    "\n",
    "# Filter the DataFrame to exclude cars with prices above $70,000\n",
    "df = df[df['price'] <= 70000]\n",
    "\n",
    "# Print the shape of the DataFrame before and after dropping rows\n",
    "print(\"Shape of the DataFrame after dropping rows:\", df.shape)\n"
   ]
  },
  {
   "cell_type": "code",
   "execution_count": 9,
   "metadata": {
    "tags": []
   },
   "outputs": [
    {
     "name": "stdout",
     "output_type": "stream",
     "text": [
      "Count of cars with price intervals:\n",
      "$0-100: 36202\n",
      "$100-200: 1484\n",
      "$200-300: 1647\n",
      "$300-400: 1516\n",
      "$400-500: 1200\n",
      "$500-600: 1718\n",
      "$600-700: 532\n",
      "$700-800: 677\n",
      "$800-900: 652\n",
      "$900-1000: 608\n",
      "$1000-1100: 1252\n",
      "$1100-1200: 173\n",
      "$1200-1300: 707\n",
      "$1300-1400: 262\n",
      "$1400-1500: 323\n",
      "$1500-1600: 1544\n",
      "$1600-1700: 342\n",
      "$1700-1800: 418\n",
      "$1800-1900: 674\n",
      "$1900-2000: 919\n"
     ]
    }
   ],
   "source": [
    "# Lets check the lower price values\n",
    "# Define the price intervals\n",
    "price_intervals = [i for i in range(0, 2001, 100)]\n",
    "\n",
    "# Initialize a dictionary to store the counts for each interval\n",
    "price_counts = {}\n",
    "\n",
    "# Count the number of cars in each price interval\n",
    "for i in range(len(price_intervals) - 1):\n",
    "    min_price = price_intervals[i]\n",
    "    max_price = price_intervals[i + 1]\n",
    "    count = df[(df['price'] >= min_price) & (df['price'] < max_price)]['price'].count()\n",
    "    price_range_label = f\"${min_price}-{max_price}\"\n",
    "    price_counts[price_range_label] = count\n",
    "\n",
    "# Print the count of cars in each price interval\n",
    "print(\"Count of cars with price intervals:\")\n",
    "for price_range, count in price_counts.items():\n",
    "    print(f\"{price_range}: {count}\")\n"
   ]
  },
  {
   "cell_type": "code",
   "execution_count": 10,
   "metadata": {
    "tags": []
   },
   "outputs": [
    {
     "name": "stdout",
     "output_type": "stream",
     "text": [
      "Shape of the DataFrame before removing rows: (423548, 11)\n",
      "Shape of the DataFrame before removing rows: (377312, 11)\n"
     ]
    }
   ],
   "source": [
    "# Filter the DataFrame to exclude rows with prices below $1000\n",
    "print(\"Shape of the DataFrame before removing rows:\", df.shape)\n",
    "\n",
    "df = df[df['price'] >= 1000]\n",
    "\n",
    "# Print the shape of the DataFrame before and after removing rows\n",
    "print(\"Shape of the DataFrame before removing rows:\", df.shape)\n"
   ]
  },
  {
   "cell_type": "code",
   "execution_count": 11,
   "metadata": {
    "tags": []
   },
   "outputs": [
    {
     "data": {
      "image/png": "[encoded data removed]",
      "text/plain": [
       "<Figure size 1200x600 with 1 Axes>"
      ]
     },
     "metadata": {},
     "output_type": "display_data"
    }
   ],
   "source": [
    "# Now lets check how many cars are older\n",
    "# Define the bins for 5-year intervals\n",
    "bins = range(int(df['year'].min()), int(df['year'].max()) + 6, 5)\n",
    "\n",
    "# Create the histogram\n",
    "plt.figure(figsize=(12, 6))\n",
    "plt.hist(df['year'], bins=bins, edgecolor='black')\n",
    "plt.title('Number of Cars Listed in 5-Year Intervals')\n",
    "plt.xlabel('Year')\n",
    "plt.ylabel('Number of Cars')\n",
    "plt.xticks(bins)\n",
    "plt.grid(axis='y', linestyle='--', alpha=0.7)\n",
    "plt.show()"
   ]
  },
  {
   "cell_type": "code",
   "execution_count": 12,
   "metadata": {
    "tags": []
   },
   "outputs": [
    {
     "name": "stdout",
     "output_type": "stream",
     "text": [
      "Shape of the DataFrame before removing rows: (377312, 11)\n",
      "Shape of the DataFrame before removing rows: (361510, 11)\n"
     ]
    }
   ],
   "source": [
    "print(\"Shape of the DataFrame before removing rows:\", df.shape)\n",
    "\n",
    "# Filter the DataFrame to exclude rows corresponding to cars older than 1995\n",
    "df = df[df['year'] >= 1995]\n",
    "\n",
    "# Print the shape of the DataFrame before and after removing rows\n",
    "print(\"Shape of the DataFrame before removing rows:\", df.shape)\n"
   ]
  },
  {
   "cell_type": "code",
   "execution_count": 13,
   "metadata": {
    "tags": []
   },
   "outputs": [
    {
     "data": {
      "image/png": "[encoded data removed]",
      "text/plain": [
       "<Figure size 1200x600 with 1 Axes>"
      ]
     },
     "metadata": {},
     "output_type": "display_data"
    }
   ],
   "source": [
    "\n",
    "import matplotlib.pyplot as plt\n",
    "\n",
    "# Define the odometer intervals up to 200,000 miles\n",
    "odometer_intervals = range(0, 200001, 10000)\n",
    "\n",
    "# Group the data by the odometer intervals and count the number of cars for each interval\n",
    "odometer_counts = df['odometer'].groupby(pd.cut(df['odometer'], bins=odometer_intervals)).count()\n",
    "\n",
    "# Plotting the count of cars for each odometer interval\n",
    "plt.figure(figsize=(12, 6))\n",
    "odometer_counts.plot(kind='bar', color='skyblue', edgecolor='black')\n",
    "plt.title('Count of Cars for Each Odometer Interval (10,000 miles) up to 200,000 miles')\n",
    "plt.xlabel('Odometer Interval')\n",
    "plt.ylabel('Count')\n",
    "plt.xticks(rotation=45, ha='right')\n",
    "plt.grid(axis='y', linestyle='--', alpha=0.7)\n",
    "plt.show()\n"
   ]
  },
  {
   "cell_type": "code",
   "execution_count": 14,
   "metadata": {
    "tags": []
   },
   "outputs": [
    {
     "data": {
      "image/png": "[encoded data removed]",
      "text/plain": [
       "<Figure size 1200x600 with 1 Axes>"
      ]
     },
     "metadata": {},
     "output_type": "display_data"
    }
   ],
   "source": [
    " import matplotlib.pyplot as plt\n",
    "\n",
    "# Define the odometer intervals in 200,000 miles increments\n",
    "odometer_intervals = range(0, int(df['odometer'].max()) + 1, 200000)\n",
    "\n",
    "# Group the data by the odometer intervals and count the number of cars for each interval\n",
    "odometer_counts = df['odometer'].groupby(pd.cut(df['odometer'], bins=odometer_intervals)).count()\n",
    "\n",
    "# Plotting the count of cars for each odometer interval\n",
    "plt.figure(figsize=(12, 6))\n",
    "odometer_counts.plot(kind='bar', color='skyblue', edgecolor='black')\n",
    "plt.title('Count of Cars for Each Odometer Interval (200,000 miles)')\n",
    "plt.xlabel('Odometer Interval')\n",
    "plt.ylabel('Count')\n",
    "plt.xticks(rotation=45, ha='right')\n",
    "plt.grid(axis='y', linestyle='--', alpha=0.7)\n",
    "plt.show()\n"
   ]
  },
  {
   "cell_type": "code",
   "execution_count": 15,
   "metadata": {
    "tags": []
   },
   "outputs": [
    {
     "name": "stdout",
     "output_type": "stream",
     "text": [
      "Number of cars with odometer readings above 200,000 miles: 20367\n"
     ]
    }
   ],
   "source": [
    "# Filter the DataFrame to include only cars with odometer readings above 200,000 miles\n",
    "above_200000_count = df[df['odometer'] > 200000]['odometer'].count()\n",
    "\n",
    "# Print the number of cars with odometer readings above 200,000 miles\n",
    "print(\"Number of cars with odometer readings above 200,000 miles:\", above_200000_count)\n"
   ]
  },
  {
   "cell_type": "code",
   "execution_count": 16,
   "metadata": {
    "tags": []
   },
   "outputs": [
    {
     "name": "stdout",
     "output_type": "stream",
     "text": [
      "Shape of the DataFrame before filtering: (361510, 11)\n",
      "Shape of the DataFrame after filtering: (361362, 11)\n"
     ]
    }
   ],
   "source": [
    "print(\"Shape of the DataFrame before filtering:\", df.shape)\n",
    "\n",
    "# Filter the DataFrame based on the condition and update the odometer column\n",
    "df.loc[(df['price'] < 5000) & (df['odometer'] > 200000), 'odometer'] = 200000\n",
    "\n",
    "# Filter the DataFrame to exclude rows that do not meet the condition\n",
    "df = df[(df['price'] >= 5000) | (df['odometer'] <= 200000)]\n",
    "\n",
    "# Print the shape of the DataFrame after filtering\n",
    "print(\"Shape of the DataFrame after filtering:\", df.shape)\n"
   ]
  },
  {
   "cell_type": "code",
   "execution_count": 17,
   "metadata": {
    "tags": []
   },
   "outputs": [
    {
     "name": "stdout",
     "output_type": "stream",
     "text": [
      "\n",
      "Missing values:\n",
      "region              0\n",
      "price               0\n",
      "year                0\n",
      "manufacturer    11310\n",
      "model            3140\n",
      "fuel             2290\n",
      "odometer         1812\n",
      "title_status     6111\n",
      "transmission     1712\n",
      "type            74526\n",
      "state               0\n",
      "dtype: int64\n",
      "Percentage of missing values for each column:\n",
      "region           0.000000\n",
      "price            0.000000\n",
      "year             0.000000\n",
      "manufacturer     3.129825\n",
      "model            0.868935\n",
      "fuel             0.633714\n",
      "odometer         0.501436\n",
      "title_status     1.691102\n",
      "transmission     0.473763\n",
      "type            20.623641\n",
      "state            0.000000\n",
      "dtype: float64\n"
     ]
    }
   ],
   "source": [
    "# Missing values\n",
    "print(\"\\nMissing values:\")\n",
    "print(df.isnull().sum())\n",
    "# Calculate percentage of missing values for each column\n",
    "missing_percentage = (df.isnull().sum() / len(df)) * 100\n",
    "\n",
    "# Display the percentage of missing values for each column\n",
    "print(\"Percentage of missing values for each column:\")\n",
    "print(missing_percentage)"
   ]
  },
  {
   "cell_type": "code",
   "execution_count": 18,
   "metadata": {
    "tags": []
   },
   "outputs": [
    {
     "name": "stdout",
     "output_type": "stream",
     "text": [
      "Shape of the DataFrame before removing NaN rows: (361362, 11)\n",
      "Shape of the DataFrame after removing NaN rows: (336491, 11)\n"
     ]
    }
   ],
   "source": [
    "print(\"Shape of the DataFrame before removing NaN rows:\", df.shape)\n",
    "\n",
    "# Define the list of columns to check for NaN values\n",
    "columns_to_check = ['manufacturer', 'model', 'fuel', 'odometer', 'title_status', 'transmission']\n",
    "\n",
    "# Filter the DataFrame to remove rows with NaN values in the specified columns\n",
    "df = df.dropna(subset=columns_to_check)\n",
    "\n",
    "# Print the shape of the DataFrame before and after removing NaN rows\n",
    "print(\"Shape of the DataFrame after removing NaN rows:\", df.shape)\n"
   ]
  },
  {
   "cell_type": "code",
   "execution_count": 19,
   "metadata": {
    "tags": []
   },
   "outputs": [
    {
     "name": "stdout",
     "output_type": "stream",
     "text": [
      "Percentage of missing values for each column:\n",
      "region           0.000000\n",
      "price            0.000000\n",
      "year             0.000000\n",
      "manufacturer     0.000000\n",
      "model            0.000000\n",
      "fuel             0.000000\n",
      "odometer         0.000000\n",
      "title_status     0.000000\n",
      "transmission     0.000000\n",
      "type            20.394602\n",
      "state            0.000000\n",
      "dtype: float64\n"
     ]
    }
   ],
   "source": [
    "# Missing values\n",
    "\n",
    "missing_percentage = (df.isnull().sum() / len(df)) * 100\n",
    "\n",
    "# Display the percentage of missing values for each column\n",
    "print(\"Percentage of missing values for each column:\")\n",
    "print(missing_percentage)"
   ]
  },
  {
   "cell_type": "code",
   "execution_count": 20,
   "metadata": {
    "tags": []
   },
   "outputs": [],
   "source": [
    "#Lets update some data, We know if model is f150 then it must be truck. we can check any entry which has model as f150 adn type is missing\n",
    "# we can update it as a truck. same for all the model and types\n",
    "\n",
    "# Get unique types\n",
    "unique_types = df['type'].unique()\n",
    "# Iterate over each unique type\n",
    "for type_val in unique_types:\n",
    "    # Get distinct truck models for the current type\n",
    "    models = df[df['type'] == type_val]['model'].unique()\n",
    "    # Update type to truck for rows where model matches and type is NaN\n",
    "    df.loc[df['model'].isin(models) & df['type'].isna(), 'type'] = type_val\n",
    "\n",
    "\n",
    "\n"
   ]
  },
  {
   "cell_type": "code",
   "execution_count": 21,
   "metadata": {
    "tags": []
   },
   "outputs": [
    {
     "name": "stdout",
     "output_type": "stream",
     "text": [
      "Percentage of missing values for each column:\n",
      "region          0.000000\n",
      "price           0.000000\n",
      "year            0.000000\n",
      "manufacturer    0.000000\n",
      "model           0.000000\n",
      "fuel            0.000000\n",
      "odometer        0.000000\n",
      "title_status    0.000000\n",
      "transmission    0.000000\n",
      "type            1.575079\n",
      "state           0.000000\n",
      "dtype: float64\n"
     ]
    }
   ],
   "source": [
    "# Missing values\n",
    "\n",
    "missing_percentage = (df.isnull().sum() / len(df)) * 100\n",
    "\n",
    "# Display the percentage of missing values for each column\n",
    "print(\"Percentage of missing values for each column:\")\n",
    "print(missing_percentage)"
   ]
  },
  {
   "cell_type": "code",
   "execution_count": 22,
   "metadata": {
    "tags": []
   },
   "outputs": [],
   "source": [
    "\n",
    "# Filter out rows with NaN values in the 'type' column\n",
    "df = df.dropna(subset=['type'])\n",
    "\n"
   ]
  },
  {
   "cell_type": "code",
   "execution_count": 23,
   "metadata": {
    "tags": []
   },
   "outputs": [
    {
     "name": "stdout",
     "output_type": "stream",
     "text": [
      "Percentage of missing values for each column:\n",
      "region          0.0\n",
      "price           0.0\n",
      "year            0.0\n",
      "manufacturer    0.0\n",
      "model           0.0\n",
      "fuel            0.0\n",
      "odometer        0.0\n",
      "title_status    0.0\n",
      "transmission    0.0\n",
      "type            0.0\n",
      "state           0.0\n",
      "dtype: float64\n"
     ]
    }
   ],
   "source": [
    "# Missing values\n",
    "\n",
    "missing_percentage = (df.isnull().sum() / len(df)) * 100\n",
    "\n",
    "# Display the percentage of missing values for each column\n",
    "print(\"Percentage of missing values for each column:\")\n",
    "print(missing_percentage)"
   ]
  },
  {
   "cell_type": "code",
   "execution_count": 24,
   "metadata": {
    "tags": []
   },
   "outputs": [
    {
     "data": {
      "text/plain": [
       "(331191, 11)"
      ]
     },
     "execution_count": 24,
     "metadata": {},
     "output_type": "execute_result"
    }
   ],
   "source": [
    "df.shape\n"
   ]
  },
  {
   "cell_type": "code",
   "execution_count": 25,
   "metadata": {
    "tags": []
   },
   "outputs": [
    {
     "data": {
      "image/png": "[encoded data removed]",
      "text/plain": [
       "<Figure size 1200x600 with 1 Axes>"
      ]
     },
     "metadata": {},
     "output_type": "display_data"
    }
   ],
   "source": [
    "# Set the style of the plot\n",
    "sns.set_style(\"whitegrid\")\n",
    "\n",
    "# Plotting the relationship between 'type' and 'price'\n",
    "plt.figure(figsize=(12, 6))\n",
    "sns.barplot(x='type', y='price', data=df)\n",
    "plt.title('Type vs Price')\n",
    "plt.xlabel('Type')\n",
    "plt.ylabel('Price')\n",
    "plt.xticks(rotation=45)\n",
    "plt.show()"
   ]
  },
  {
   "cell_type": "code",
   "execution_count": 26,
   "metadata": {
    "tags": []
   },
   "outputs": [
    {
     "name": "stdout",
     "output_type": "stream",
     "text": [
      "<class 'pandas.core.frame.DataFrame'>\n",
      "Index: 331191 entries, 27 to 426879\n",
      "Data columns (total 11 columns):\n",
      " #   Column        Non-Null Count   Dtype  \n",
      "---  ------        --------------   -----  \n",
      " 0   region        331191 non-null  object \n",
      " 1   price         331191 non-null  int64  \n",
      " 2   year          331191 non-null  float64\n",
      " 3   manufacturer  331191 non-null  object \n",
      " 4   model         331191 non-null  object \n",
      " 5   fuel          331191 non-null  object \n",
      " 6   odometer      331191 non-null  float64\n",
      " 7   title_status  331191 non-null  object \n",
      " 8   transmission  331191 non-null  object \n",
      " 9   type          331191 non-null  object \n",
      " 10  state         331191 non-null  object \n",
      "dtypes: float64(2), int64(1), object(8)\n",
      "memory usage: 30.3+ MB\n"
     ]
    }
   ],
   "source": [
    "df.info()"
   ]
  },
  {
   "cell_type": "code",
   "execution_count": 27,
   "metadata": {
    "tags": []
   },
   "outputs": [
    {
     "name": "stdout",
     "output_type": "stream",
     "text": [
      "(331191, 525)\n",
      "['price', 'year', 'model', 'odometer', 'region_SF bay area', 'region_abilene', 'region_akron / canton', 'region_albany', 'region_albuquerque', 'region_altoona-johnstown', 'region_amarillo', 'region_ames', 'region_anchorage / mat-su', 'region_ann arbor', 'region_annapolis', 'region_appleton-oshkosh-FDL', 'region_asheville', 'region_ashtabula', 'region_athens', 'region_atlanta', 'region_auburn', 'region_augusta', 'region_austin', 'region_bakersfield', 'region_baltimore', 'region_baton rouge', 'region_battle creek', 'region_beaumont / port arthur', 'region_bellingham', 'region_bemidji', 'region_bend', 'region_billings', 'region_binghamton', 'region_birmingham', 'region_bismarck', 'region_bloomington', 'region_bloomington-normal', 'region_boise', 'region_boone', 'region_boston', 'region_boulder', 'region_bowling green', 'region_bozeman', 'region_brainerd', 'region_brownsville', 'region_brunswick', 'region_buffalo', 'region_butte', 'region_cape cod / islands', 'region_catskills', 'region_cedar rapids', 'region_central NJ', 'region_central louisiana', 'region_central michigan', 'region_champaign urbana', 'region_charleston', 'region_charlotte', 'region_charlottesville', 'region_chattanooga', 'region_chautauqua', 'region_chicago', 'region_chico', 'region_chillicothe', 'region_cincinnati', 'region_clarksville', 'region_cleveland', 'region_clovis / portales', 'region_college station', 'region_colorado springs', 'region_columbia', 'region_columbia / jeff city', 'region_columbus', 'region_cookeville', 'region_corpus christi', 'region_corvallis/albany', 'region_cumberland valley', 'region_dallas / fort worth', 'region_danville', 'region_dayton / springfield', 'region_daytona beach', 'region_decatur', 'region_deep east texas', 'region_del rio / eagle pass', 'region_delaware', 'region_denver', 'region_des moines', 'region_detroit metro', 'region_dothan', 'region_dubuque', 'region_duluth / superior', 'region_east idaho', 'region_east oregon', 'region_eastern CO', 'region_eastern CT', 'region_eastern NC', 'region_eastern kentucky', 'region_eastern montana', 'region_eastern panhandle', 'region_eastern shore', 'region_eau claire', 'region_el paso', 'region_elko', 'region_elmira-corning', 'region_erie', 'region_eugene', 'region_evansville', 'region_fairbanks', 'region_fargo / moorhead', 'region_farmington', 'region_fayetteville', 'region_finger lakes', 'region_flagstaff / sedona', 'region_flint', 'region_florence', 'region_florence / muscle shoals', 'region_florida keys', 'region_fort collins / north CO', 'region_fort dodge', 'region_fort smith', 'region_fort smith, AR', 'region_fort wayne', 'region_frederick', 'region_fredericksburg', 'region_fresno / madera', 'region_ft myers / SW florida', 'region_gadsden-anniston', 'region_gainesville', 'region_galveston', 'region_glens falls', 'region_gold country', 'region_grand forks', 'region_grand island', 'region_grand rapids', 'region_great falls', 'region_green bay', 'region_greensboro', 'region_greenville / upstate', 'region_gulfport / biloxi', 'region_hanford-corcoran', 'region_harrisburg', 'region_harrisonburg', 'region_hartford', 'region_hattiesburg', 'region_hawaii', 'region_heartland florida', 'region_helena', 'region_hickory / lenoir', 'region_high rockies', 'region_hilton head', 'region_holland', 'region_houma', 'region_houston', 'region_hudson valley', 'region_humboldt county', 'region_huntington-ashland', 'region_huntsville / decatur', 'region_imperial county', 'region_indianapolis', 'region_inland empire', 'region_iowa city', 'region_ithaca', 'region_jackson', 'region_jacksonville', 'region_janesville', 'region_jersey shore', 'region_jonesboro', 'region_joplin', 'region_kalamazoo', 'region_kalispell', 'region_kansas city', 'region_kansas city, MO', 'region_kenai peninsula', 'region_kennewick-pasco-richland', 'region_kenosha-racine', 'region_killeen / temple / ft hood', 'region_kirksville', 'region_klamath falls', 'region_knoxville', 'region_kokomo', 'region_la crosse', 'region_la salle co', 'region_lafayette', 'region_lafayette / west lafayette', 'region_lake charles', 'region_lake of the ozarks', 'region_lakeland', 'region_lancaster', 'region_lansing', 'region_laredo', 'region_las cruces', 'region_las vegas', 'region_lawrence', 'region_lawton', 'region_lehigh valley', 'region_lewiston / clarkston', 'region_lexington', 'region_lima / findlay', 'region_lincoln', 'region_little rock', 'region_logan', 'region_long island', 'region_los angeles', 'region_louisville', 'region_lubbock', 'region_lynchburg', 'region_macon / warner robins', 'region_madison', 'region_maine', 'region_manhattan', 'region_mankato', 'region_mansfield', 'region_mason city', 'region_mattoon-charleston', 'region_mcallen / edinburg', 'region_meadville', 'region_medford-ashland', 'region_memphis', 'region_mendocino county', 'region_merced', 'region_meridian', 'region_milwaukee', 'region_minneapolis / st paul', 'region_missoula', 'region_mobile', 'region_modesto', 'region_mohave county', 'region_monroe', 'region_monterey bay', 'region_montgomery', 'region_morgantown', 'region_moses lake', 'region_muncie / anderson', 'region_muskegon', 'region_myrtle beach', 'region_nashville', 'region_new hampshire', 'region_new haven', 'region_new orleans', 'region_new river valley', 'region_new york city', 'region_norfolk / hampton roads', 'region_north central FL', 'region_north dakota', 'region_north jersey', 'region_north mississippi', 'region_north platte', 'region_northeast SD', 'region_northern WI', 'region_northern michigan', 'region_northern panhandle', 'region_northwest CT', 'region_northwest GA', 'region_northwest KS', 'region_northwest OK', 'region_ocala', 'region_odessa / midland', 'region_ogden-clearfield', 'region_okaloosa / walton', 'region_oklahoma city', 'region_olympic peninsula', 'region_omaha / council bluffs', 'region_oneonta', 'region_orange county', 'region_oregon coast', 'region_orlando', 'region_outer banks', 'region_owensboro', 'region_palm springs', 'region_panama city', 'region_parkersburg-marietta', 'region_pensacola', 'region_peoria', 'region_philadelphia', 'region_phoenix', 'region_pierre / central SD', 'region_pittsburgh', 'region_plattsburgh-adirondacks', 'region_poconos', 'region_port huron', 'region_portland', 'region_potsdam-canton-massena', 'region_prescott', 'region_provo / orem', 'region_pueblo', 'region_pullman / moscow', 'region_quad cities, IA/IL', 'region_raleigh / durham / CH', 'region_rapid city / west SD', 'region_reading', 'region_redding', 'region_reno / tahoe', 'region_rhode island', 'region_richmond', 'region_roanoke', 'region_rochester', 'region_rockford', 'region_roseburg', 'region_roswell / carlsbad', 'region_sacramento', 'region_saginaw-midland-baycity', 'region_salem', 'region_salina', 'region_salt lake city', 'region_san angelo', 'region_san antonio', 'region_san diego', 'region_san luis obispo', 'region_san marcos', 'region_sandusky', 'region_santa barbara', 'region_santa fe / taos', 'region_santa maria', 'region_sarasota-bradenton', 'region_savannah / hinesville', 'region_scottsbluff / panhandle', 'region_scranton / wilkes-barre', 'region_seattle-tacoma', 'region_sheboygan', 'region_show low', 'region_shreveport', 'region_sierra vista', 'region_sioux city', 'region_sioux falls / SE SD', 'region_siskiyou county', 'region_skagit / island / SJI', 'region_south bend / michiana', 'region_south coast', 'region_south dakota', 'region_south florida', 'region_south jersey', 'region_southeast IA', 'region_southeast KS', 'region_southeast alaska', 'region_southeast missouri', 'region_southern WV', 'region_southern illinois', 'region_southern maryland', 'region_southwest KS', 'region_southwest MN', 'region_southwest MS', 'region_southwest TX', 'region_southwest VA', 'region_southwest michigan', 'region_space coast', \"region_spokane / coeur d'alene\", 'region_springfield', 'region_st augustine', 'region_st cloud', 'region_st george', 'region_st joseph', 'region_st louis', 'region_st louis, MO', 'region_state college', 'region_statesboro', 'region_stillwater', 'region_stockton', 'region_susanville', 'region_syracuse', 'region_tallahassee', 'region_tampa bay area', 'region_terre haute', 'region_texarkana', 'region_texoma', 'region_the thumb', 'region_toledo', 'region_topeka', 'region_treasure coast', 'region_tri-cities', 'region_tucson', 'region_tulsa', 'region_tuscaloosa', 'region_tuscarawas co', 'region_twin falls', 'region_twin tiers NY/PA', 'region_tyler / east TX', 'region_upper peninsula', 'region_utica-rome-oneida', 'region_valdosta', 'region_ventura county', 'region_vermont', 'region_victoria', 'region_visalia-tulare', 'region_waco', 'region_washington, DC', 'region_waterloo / cedar falls', 'region_watertown', 'region_wausau', 'region_wenatchee', 'region_west virginia (old)', 'region_western IL', 'region_western KY', 'region_western maryland', 'region_western massachusetts', 'region_western slope', 'region_wichita', 'region_wichita falls', 'region_williamsport', 'region_wilmington', 'region_winchester', 'region_winston-salem', 'region_worcester / central MA', 'region_wyoming', 'region_yakima', 'region_york', 'region_youngstown', 'region_yuba-sutter', 'region_yuma', 'region_zanesville / cambridge', 'manufacturer_acura', 'manufacturer_alfa-romeo', 'manufacturer_aston-martin', 'manufacturer_audi', 'manufacturer_bmw', 'manufacturer_buick', 'manufacturer_cadillac', 'manufacturer_chevrolet', 'manufacturer_chrysler', 'manufacturer_dodge', 'manufacturer_ferrari', 'manufacturer_fiat', 'manufacturer_ford', 'manufacturer_gmc', 'manufacturer_harley-davidson', 'manufacturer_honda', 'manufacturer_hyundai', 'manufacturer_infiniti', 'manufacturer_jaguar', 'manufacturer_jeep', 'manufacturer_kia', 'manufacturer_land rover', 'manufacturer_lexus', 'manufacturer_lincoln', 'manufacturer_mazda', 'manufacturer_mercedes-benz', 'manufacturer_mercury', 'manufacturer_mini', 'manufacturer_mitsubishi', 'manufacturer_nissan', 'manufacturer_pontiac', 'manufacturer_porsche', 'manufacturer_ram', 'manufacturer_rover', 'manufacturer_saturn', 'manufacturer_subaru', 'manufacturer_tesla', 'manufacturer_toyota', 'manufacturer_volkswagen', 'manufacturer_volvo', 'fuel_diesel', 'fuel_electric', 'fuel_gas', 'fuel_hybrid', 'fuel_other', 'title_status_clean', 'title_status_lien', 'title_status_missing', 'title_status_rebuilt', 'title_status_salvage', 'transmission_automatic', 'transmission_manual', 'transmission_other', 'type_SUV', 'type_bus', 'type_convertible', 'type_coupe', 'type_hatchback', 'type_mini-van', 'type_offroad', 'type_other', 'type_pickup', 'type_sedan', 'type_truck', 'type_van', 'type_wagon', 'state_ak', 'state_al', 'state_ar', 'state_az', 'state_ca', 'state_co', 'state_ct', 'state_dc', 'state_de', 'state_fl', 'state_ga', 'state_hi', 'state_ia', 'state_id', 'state_il', 'state_in', 'state_ks', 'state_ky', 'state_la', 'state_ma', 'state_md', 'state_me', 'state_mi', 'state_mn', 'state_mo', 'state_ms', 'state_mt', 'state_nc', 'state_nd', 'state_ne', 'state_nh', 'state_nj', 'state_nm', 'state_nv', 'state_ny', 'state_oh', 'state_ok', 'state_or', 'state_pa', 'state_ri', 'state_sc', 'state_sd', 'state_tn', 'state_tx', 'state_ut', 'state_va', 'state_vt', 'state_wa', 'state_wi', 'state_wv', 'state_wy']\n"
     ]
    }
   ],
   "source": [
    "\n",
    "# Perform one-hot encoding for categorical columns\n",
    "df_encoded = pd.get_dummies(df, columns=['region', 'manufacturer', 'fuel', 'title_status', 'transmission', 'type', 'state'])\n",
    "\n",
    "# Print the encoded DataFrame\n",
    "print(df_encoded.shape)\n",
    "\n",
    "\n",
    "# Convert column names to a list\n",
    "column_names = df_encoded.columns.tolist()\n",
    "\n",
    "# Print the list of column names\n",
    "print(column_names)\n",
    "\n",
    "\n",
    "\n"
   ]
  },
  {
   "cell_type": "code",
   "execution_count": null,
   "metadata": {},
   "outputs": [],
   "source": []
  },
  {
   "cell_type": "code",
   "execution_count": null,
   "metadata": {},
   "outputs": [],
   "source": []
  },
  {
   "cell_type": "code",
   "execution_count": null,
   "metadata": {},
   "outputs": [],
   "source": []
  },
  {
   "cell_type": "markdown",
   "metadata": {},
   "source": [
    "### Modeling\n",
    "\n",
    "With your (almost?) final dataset in hand, it is now time to build some models.  Here, you should build a number of different regression models with the price as the target.  In building your models, you should explore different parameters and be sure to cross-validate your findings."
   ]
  },
  {
   "cell_type": "code",
   "execution_count": 28,
   "metadata": {
    "tags": []
   },
   "outputs": [],
   "source": [
    "# Perform one-hot encoding for all remaining categorical columns\n",
    "df_encoded = pd.get_dummies(df, columns=['region', 'manufacturer', 'fuel', 'title_status', 'transmission', 'type', 'state'])\n",
    "\n",
    "# Convert any remaining non-numeric columns to numeric using label encoding if needed\n",
    "from sklearn.preprocessing import LabelEncoder\n",
    "\n",
    "label_encoder = LabelEncoder()\n",
    "for column in df_encoded.columns:\n",
    "    if df_encoded[column].dtype == 'object':\n",
    "        df_encoded[column] = label_encoder.fit_transform(df_encoded[column])\n",
    "\n",
    "# Now, you can proceed with running PCA\n"
   ]
  },
  {
   "cell_type": "code",
   "execution_count": 29,
   "metadata": {
    "tags": []
   },
   "outputs": [
    {
     "name": "stdout",
     "output_type": "stream",
     "text": [
      "Shape of transformed DataFrame: (331191, 10)\n"
     ]
    }
   ],
   "source": [
    "from sklearn.decomposition import PCA\n",
    "\n",
    "# Instantiate PCA with the number of components you want to keep\n",
    "n_components = 10  # Specify the number of components to keep\n",
    "pca = PCA(n_components=n_components)\n",
    "\n",
    "# Fit PCA to the encoded DataFrame\n",
    "pca.fit(df_encoded)\n",
    "\n",
    "# Transform the encoded DataFrame using the fitted PCA\n",
    "df_pca = pca.transform(df_encoded)\n",
    "\n",
    "# Print the shape of the transformed DataFrame\n",
    "print(\"Shape of transformed DataFrame:\", df_pca.shape)\n"
   ]
  },
  {
   "cell_type": "code",
   "execution_count": 30,
   "metadata": {
    "tags": []
   },
   "outputs": [
    {
     "name": "stdout",
     "output_type": "stream",
     "text": [
      "Explained Variance Ratio:\n",
      "Principal Component 1: 0.98\n",
      "Principal Component 2: 0.02\n",
      "Principal Component 3: 0.00\n",
      "Principal Component 4: 0.00\n",
      "Principal Component 5: 0.00\n",
      "Principal Component 6: 0.00\n",
      "Principal Component 7: 0.00\n",
      "Principal Component 8: 0.00\n",
      "Principal Component 9: 0.00\n",
      "Principal Component 10: 0.00\n"
     ]
    }
   ],
   "source": [
    "# Fit PCA to the encoded DataFrame\n",
    "pca.fit(df_encoded)\n",
    "\n",
    "# Get the explained variance ratio\n",
    "explained_variance_ratio = pca.explained_variance_ratio_\n",
    "\n",
    "# Print the explained variance ratio\n",
    "print(\"Explained Variance Ratio:\")\n",
    "for i, evr in enumerate(explained_variance_ratio):\n",
    "    print(f\"Principal Component {i+1}: {evr:.2f}\")\n"
   ]
  },
  {
   "cell_type": "code",
   "execution_count": 31,
   "metadata": {
    "tags": []
   },
   "outputs": [
    {
     "ename": "NameError",
     "evalue": "name 'components' is not defined",
     "output_type": "error",
     "traceback": [
      "\u001b[1;31m---------------------------------------------------------------------------\u001b[0m",
      "\u001b[1;31mNameError\u001b[0m                                 Traceback (most recent call last)",
      "Cell \u001b[1;32mIn[31], line 5\u001b[0m\n\u001b[0;32m      2\u001b[0m feature_names \u001b[38;5;241m=\u001b[39m df_encoded\u001b[38;5;241m.\u001b[39mcolumns\n\u001b[0;32m      4\u001b[0m \u001b[38;5;66;03m# Create a DataFrame to store the loadings\u001b[39;00m\n\u001b[1;32m----> 5\u001b[0m loadings_df \u001b[38;5;241m=\u001b[39m pd\u001b[38;5;241m.\u001b[39mDataFrame(components, columns\u001b[38;5;241m=\u001b[39mfeature_names)\n\u001b[0;32m      7\u001b[0m \u001b[38;5;66;03m# Print the top contributing columns for each principal component\u001b[39;00m\n\u001b[0;32m      8\u001b[0m \u001b[38;5;28mprint\u001b[39m(\u001b[38;5;124m\"\u001b[39m\u001b[38;5;124mTop Contributing Columns for Each Principal Component:\u001b[39m\u001b[38;5;124m\"\u001b[39m)\n",
      "\u001b[1;31mNameError\u001b[0m: name 'components' is not defined"
     ]
    }
   ],
   "source": [
    "# Get the feature names\n",
    "feature_names = df_encoded.columns\n",
    "\n",
    "# Create a DataFrame to store the loadings\n",
    "loadings_df = pd.DataFrame(components, columns=feature_names)\n",
    "\n",
    "# Print the top contributing columns for each principal component\n",
    "print(\"Top Contributing Columns for Each Principal Component:\")\n",
    "for i, component_loadings in enumerate(loadings_df.values):\n",
    "    top_columns = sorted(zip(feature_names, component_loadings), key=lambda x: abs(x[1]), reverse=True)[:3]  # Top 3 contributing columns\n",
    "    print(f\"Principal Component {i+1}:\")\n",
    "    for column, loading in top_columns:\n",
    "        print(f\"   {column}: {loading:.2f}\")\n"
   ]
  },
  {
   "cell_type": "code",
   "execution_count": 453,
   "metadata": {
    "tags": []
   },
   "outputs": [
    {
     "name": "stdout",
     "output_type": "stream",
     "text": [
      "The principal component 10 contributes the most to the 'price' column with correlation: 0.40\n"
     ]
    }
   ],
   "source": [
    "import numpy as np\n",
    "\n",
    "# Calculate the correlation between each principal component and the 'price' column\n",
    "component_price_correlation = np.abs(np.corrcoef(df_pca.T, df['price'])[0, 1:])\n",
    "\n",
    "# Get the index of the principal component with the highest correlation to 'price'\n",
    "max_correlation_component_index = np.argmax(component_price_correlation)\n",
    "\n",
    "# Print the component index and its correlation to 'price'\n",
    "print(f\"The principal component {max_correlation_component_index + 1} contributes the most to the 'price' column with correlation: {component_price_correlation[max_correlation_component_index]:.2f}\")\n"
   ]
  },
  {
   "cell_type": "code",
   "execution_count": null,
   "metadata": {
    "tags": []
   },
   "outputs": [],
   "source": [
    "from sklearn.model_selection import train_test_split\n",
    "from sklearn.preprocessing import PolynomialFeatures\n",
    "from sklearn.linear_model import LinearRegression\n",
    "from sklearn.metrics import mean_squared_error\n",
    "\n",
    "# Split the data into features (X) and target variable (y)\n",
    "X = df_encoded.drop('price', axis=1)\n",
    "y = df_encoded['price']\n",
    "\n",
    "# Split the data into training and testing sets\n",
    "X_train, X_test, y_train, y_test = train_test_split(X, y, test_size=0.2, random_state=42)\n",
    "\n",
    "# Initialize PolynomialFeatures\n",
    "poly = PolynomialFeatures(degree=2)  # You can adjust the degree as needed\n",
    "\n",
    "# Transform the features to polynomial features\n",
    "X_train_poly = poly.fit_transform(X_train)\n",
    "X_test_poly = poly.fit_transform(X_test)\n",
    "\n",
    "# Initialize and fit a Linear Regression model\n",
    "model = LinearRegression()\n",
    "model.fit(X_train_poly, y_train)\n",
    "\n",
    "# Predict on the training and testing sets\n",
    "y_train_pred = model.predict(X_train_poly)\n",
    "y_test_pred = model.predict(X_test_poly)\n",
    "\n",
    "# Calculate and print the RMSE for the training and testing sets\n",
    "rmse_train = mean_squared_error(y_train, y_train_pred, squared=False)\n",
    "rmse_test = mean_squared_error(y_test, y_test_pred, squared=False)\n",
    "print(f\"Root Mean Squared Error (RMSE) on training set: {rmse_train:.2f}\")\n",
    "print(f\"Root Mean Squared Error (RMSE) on testing set: {rmse_test:.2f}\")\n"
   ]
  },
  {
   "cell_type": "code",
   "execution_count": 33,
   "metadata": {
    "tags": []
   },
   "outputs": [
    {
     "ename": "NameError",
     "evalue": "name 'poly' is not defined",
     "output_type": "error",
     "traceback": [
      "\u001b[1;31m---------------------------------------------------------------------------\u001b[0m",
      "\u001b[1;31mNameError\u001b[0m                                 Traceback (most recent call last)",
      "Cell \u001b[1;32mIn[33], line 9\u001b[0m\n\u001b[0;32m      6\u001b[0m \u001b[38;5;28;01mfrom\u001b[39;00m \u001b[38;5;21;01msklearn\u001b[39;00m\u001b[38;5;21;01m.\u001b[39;00m\u001b[38;5;21;01mpipeline\u001b[39;00m \u001b[38;5;28;01mimport\u001b[39;00m Pipeline\n\u001b[0;32m      7\u001b[0m \u001b[38;5;28;01mfrom\u001b[39;00m \u001b[38;5;21;01msklearn\u001b[39;00m \u001b[38;5;28;01mimport\u001b[39;00m set_config\n\u001b[1;32m----> 9\u001b[0m columns \u001b[38;5;241m=\u001b[39m poly\u001b[38;5;241m.\u001b[39mget_feature_names_out()\n\u001b[0;32m     10\u001b[0m \u001b[38;5;28mprint\u001b[39m (columns)\n\u001b[0;32m     11\u001b[0m train_df \u001b[38;5;241m=\u001b[39m pd\u001b[38;5;241m.\u001b[39mDataFrame(X_train_poly, columns\u001b[38;5;241m=\u001b[39mcolumns)\n",
      "\u001b[1;31mNameError\u001b[0m: name 'poly' is not defined"
     ]
    }
   ],
   "source": [
    "from sklearn.feature_selection import SequentialFeatureSelector\n",
    "from sklearn.preprocessing import PolynomialFeatures\n",
    "from sklearn.model_selection import train_test_split\n",
    "from sklearn.linear_model import LinearRegression\n",
    "from sklearn.metrics import mean_squared_error\n",
    "from sklearn.pipeline import Pipeline\n",
    "from sklearn import set_config\n",
    "\n",
    "columns = poly.get_feature_names_out()\n",
    "print (columns)\n",
    "train_df = pd.DataFrame(X_train_poly, columns=columns)\n",
    "test_df = pd.DataFrame(X_test_poly, columns = columns)\n",
    "\n",
    "selector = SequentialFeatureSelector(LinearRegression(), n_features_to_select=3)\n",
    "best_features = selector.fit_transform(train_df, y_train)\n",
    "best_features_df = pd.DataFrame(best_features, columns = selector.get_feature_names_out())\n",
    "\n",
    "best_features_df.head()"
   ]
  },
  {
   "cell_type": "code",
   "execution_count": 461,
   "metadata": {
    "tags": []
   },
   "outputs": [],
   "source": [
    "pipe = Pipeline([('column_selector', selector),\n",
    "                ('linreg', LinearRegression())])\n",
    "pipe.fit(train_df, y_train)\n",
    "train_preds = pipe.predict(train_df)\n",
    "test_preds = pipe.predict(test_df)\n",
    "train_mse = mean_squared_error(y_train, train_preds)\n",
    "test_mse = mean_squared_error(y_test, test_preds)"
   ]
  },
  {
   "cell_type": "code",
   "execution_count": 462,
   "metadata": {
    "tags": []
   },
   "outputs": [
    {
     "name": "stdout",
     "output_type": "stream",
     "text": [
      "Train MSE:  85437987.29\n",
      "Test MSE:  85850310.43\n"
     ]
    }
   ],
   "source": [
    "print(f'Train MSE: {train_mse: .2f}')\n",
    "print(f'Test MSE: {test_mse: .2f}')"
   ]
  },
  {
   "cell_type": "code",
   "execution_count": null,
   "metadata": {},
   "outputs": [],
   "source": []
  },
  {
   "cell_type": "code",
   "execution_count": null,
   "metadata": {},
   "outputs": [],
   "source": []
  },
  {
   "cell_type": "code",
   "execution_count": null,
   "metadata": {},
   "outputs": [],
   "source": []
  },
  {
   "cell_type": "code",
   "execution_count": 415,
   "metadata": {
    "tags": []
   },
   "outputs": [
    {
     "name": "stdout",
     "output_type": "stream",
     "text": [
      "Permutation Importance:\n",
      "year: 0.6308 +/- 0.0026\n",
      "fuel_0: 0.0698 +/- 0.0006\n",
      "type_9: 0.0371 +/- 0.0005\n",
      "odometer: 0.0340 +/- 0.0004\n",
      "type_8: 0.0299 +/- 0.0005\n",
      "state_17: 0.0191 +/- 0.0004\n",
      "type_4: 0.0183 +/- 0.0003\n",
      "type_10: 0.0149 +/- 0.0004\n",
      "manufacturer_29: 0.0141 +/- 0.0003\n",
      "manufacturer_16: 0.0118 +/- 0.0003\n",
      "manufacturer_20: 0.0117 +/- 0.0003\n",
      "region_198: 0.0099 +/- 0.0003\n",
      "state_35: 0.0095 +/- 0.0002\n",
      "manufacturer_38: 0.0079 +/- 0.0002\n",
      "state_38: 0.0072 +/- 0.0001\n",
      "manufacturer_22: 0.0069 +/- 0.0003\n",
      "fuel_2: 0.0066 +/- 0.0002\n",
      "manufacturer_36: 0.0066 +/- 0.0002\n",
      "transmission_0: 0.0064 +/- 0.0003\n",
      "manufacturer_25: 0.0061 +/- 0.0002\n",
      "region_191: 0.0053 +/- 0.0002\n",
      "manufacturer_31: 0.0051 +/- 0.0001\n",
      "transmission_2: 0.0046 +/- 0.0003\n",
      "model: 0.0044 +/- 0.0001\n",
      "manufacturer_3: 0.0043 +/- 0.0003\n",
      "manufacturer_28: 0.0039 +/- 0.0001\n",
      "state_22: 0.0036 +/- 0.0002\n",
      "state_47: 0.0035 +/- 0.0002\n",
      "type_12: 0.0034 +/- 0.0002\n",
      "state_13: 0.0034 +/- 0.0002\n",
      "type_2: 0.0032 +/- 0.0002\n",
      "title_status_0: 0.0031 +/- 0.0002\n",
      "manufacturer_15: 0.0030 +/- 0.0001\n",
      "type_0: 0.0028 +/- 0.0002\n",
      "manufacturer_4: 0.0027 +/- 0.0002\n",
      "manufacturer_32: 0.0026 +/- 0.0002\n",
      "manufacturer_24: 0.0026 +/- 0.0001\n",
      "fuel_3: 0.0025 +/- 0.0001\n",
      "region_37: 0.0024 +/- 0.0001\n",
      "manufacturer_35: 0.0024 +/- 0.0001\n",
      "manufacturer_8: 0.0023 +/- 0.0001\n",
      "manufacturer_33: 0.0022 +/- 0.0001\n",
      "type_3: 0.0021 +/- 0.0001\n",
      "manufacturer_6: 0.0020 +/- 0.0001\n",
      "state_37: 0.0020 +/- 0.0001\n",
      "manufacturer_13: 0.0018 +/- 0.0001\n",
      "manufacturer_18: 0.0015 +/- 0.0001\n",
      "state_48: 0.0015 +/- 0.0001\n",
      "manufacturer_11: 0.0014 +/- 0.0001\n",
      "region_386: 0.0014 +/- 0.0001\n",
      "type_7: 0.0014 +/- 0.0001\n",
      "manufacturer_9: 0.0014 +/- 0.0001\n",
      "region_91: 0.0012 +/- 0.0001\n",
      "state_10: 0.0012 +/- 0.0001\n",
      "type_5: 0.0010 +/- 0.0001\n",
      "state_34: 0.0009 +/- 0.0001\n",
      "region_402: 0.0009 +/- 0.0001\n",
      "title_status_4: 0.0009 +/- 0.0001\n",
      "state_26: 0.0008 +/- 0.0001\n",
      "state_3: 0.0008 +/- 0.0001\n",
      "region_324: 0.0008 +/- 0.0001\n",
      "region_271: 0.0007 +/- 0.0001\n",
      "fuel_1: 0.0007 +/- 0.0001\n",
      "region_262: 0.0007 +/- 0.0001\n",
      "region_67: 0.0007 +/- 0.0000\n",
      "region_20: 0.0007 +/- 0.0001\n",
      "state_15: 0.0007 +/- 0.0001\n",
      "region_150: 0.0006 +/- 0.0001\n",
      "region_74: 0.0006 +/- 0.0000\n",
      "manufacturer_27: 0.0006 +/- 0.0001\n",
      "state_2: 0.0006 +/- 0.0001\n",
      "region_59: 0.0006 +/- 0.0001\n",
      "region_61: 0.0006 +/- 0.0001\n",
      "manufacturer_5: 0.0006 +/- 0.0001\n",
      "manufacturer_23: 0.0006 +/- 0.0001\n",
      "state_4: 0.0005 +/- 0.0001\n",
      "region_311: 0.0005 +/- 0.0001\n",
      "region_189: 0.0005 +/- 0.0001\n",
      "region_194: 0.0005 +/- 0.0001\n",
      "region_209: 0.0005 +/- 0.0000\n",
      "region_255: 0.0005 +/- 0.0000\n",
      "title_status_3: 0.0005 +/- 0.0001\n",
      "state_19: 0.0005 +/- 0.0001\n",
      "region_364: 0.0005 +/- 0.0001\n",
      "region_2: 0.0005 +/- 0.0001\n",
      "region_226: 0.0005 +/- 0.0001\n",
      "state_23: 0.0004 +/- 0.0001\n",
      "region_147: 0.0004 +/- 0.0000\n",
      "state_9: 0.0004 +/- 0.0001\n",
      "region_268: 0.0004 +/- 0.0000\n",
      "state_12: 0.0004 +/- 0.0000\n",
      "region_197: 0.0004 +/- 0.0000\n",
      "state_31: 0.0004 +/- 0.0000\n",
      "manufacturer_12: 0.0004 +/- 0.0001\n",
      "region_58: 0.0004 +/- 0.0001\n",
      "region_153: 0.0004 +/- 0.0000\n",
      "state_14: 0.0004 +/- 0.0001\n",
      "region_87: 0.0004 +/- 0.0001\n",
      "region_399: 0.0004 +/- 0.0000\n",
      "manufacturer_17: 0.0003 +/- 0.0001\n",
      "state_18: 0.0003 +/- 0.0001\n",
      "title_status_1: 0.0003 +/- 0.0001\n",
      "region_33: 0.0003 +/- 0.0001\n",
      "region_182: 0.0003 +/- 0.0001\n",
      "region_321: 0.0003 +/- 0.0001\n",
      "region_135: 0.0003 +/- 0.0000\n",
      "region_116: 0.0003 +/- 0.0001\n",
      "type_6: 0.0003 +/- 0.0001\n",
      "region_383: 0.0003 +/- 0.0001\n",
      "region_3: 0.0003 +/- 0.0001\n",
      "state_20: 0.0003 +/- 0.0001\n",
      "state_40: 0.0003 +/- 0.0000\n",
      "manufacturer_1: 0.0003 +/- 0.0000\n",
      "region_298: 0.0003 +/- 0.0000\n",
      "region_132: 0.0003 +/- 0.0000\n",
      "region_26: 0.0003 +/- 0.0001\n",
      "state_0: 0.0002 +/- 0.0000\n",
      "region_220: 0.0002 +/- 0.0000\n",
      "region_263: 0.0002 +/- 0.0000\n",
      "manufacturer_34: 0.0002 +/- 0.0001\n",
      "region_368: 0.0002 +/- 0.0001\n",
      "region_269: 0.0002 +/- 0.0000\n",
      "region_128: 0.0002 +/- 0.0000\n",
      "manufacturer_19: 0.0002 +/- 0.0001\n",
      "state_45: 0.0002 +/- 0.0000\n",
      "region_99: 0.0002 +/- 0.0000\n",
      "region_152: 0.0002 +/- 0.0000\n",
      "region_96: 0.0002 +/- 0.0000\n",
      "region_168: 0.0002 +/- 0.0000\n",
      "region_14: 0.0002 +/- 0.0000\n",
      "manufacturer_37: 0.0002 +/- 0.0000\n",
      "state_6: 0.0002 +/- 0.0000\n",
      "region_201: 0.0002 +/- 0.0000\n",
      "region_86: 0.0002 +/- 0.0000\n",
      "state_29: 0.0002 +/- 0.0000\n",
      "state_5: 0.0002 +/- 0.0000\n",
      "region_5: 0.0002 +/- 0.0000\n",
      "region_192: 0.0002 +/- 0.0000\n",
      "region_206: 0.0001 +/- 0.0000\n",
      "region_19: 0.0001 +/- 0.0000\n",
      "region_392: 0.0001 +/- 0.0000\n",
      "region_245: 0.0001 +/- 0.0000\n",
      "region_40: 0.0001 +/- 0.0000\n",
      "manufacturer_7: 0.0001 +/- 0.0000\n",
      "region_288: 0.0001 +/- 0.0001\n",
      "region_301: 0.0001 +/- 0.0000\n",
      "region_236: 0.0001 +/- 0.0000\n",
      "region_118: 0.0001 +/- 0.0000\n",
      "region_193: 0.0001 +/- 0.0000\n",
      "region_13: 0.0001 +/- 0.0000\n",
      "region_265: 0.0001 +/- 0.0000\n",
      "manufacturer_39: 0.0001 +/- 0.0000\n",
      "region_178: 0.0001 +/- 0.0000\n",
      "type_11: 0.0001 +/- 0.0000\n",
      "region_320: 0.0001 +/- 0.0000\n",
      "region_315: 0.0001 +/- 0.0000\n",
      "region_24: 0.0001 +/- 0.0000\n",
      "region_284: 0.0001 +/- 0.0000\n",
      "state_11: 0.0001 +/- 0.0000\n",
      "region_139: 0.0001 +/- 0.0000\n",
      "region_304: 0.0001 +/- 0.0000\n",
      "region_34: 0.0001 +/- 0.0000\n",
      "region_367: 0.0001 +/- 0.0000\n",
      "region_340: 0.0001 +/- 0.0000\n",
      "region_240: 0.0001 +/- 0.0000\n",
      "region_348: 0.0001 +/- 0.0000\n",
      "region_56: 0.0001 +/- 0.0000\n",
      "region_232: 0.0001 +/- 0.0000\n",
      "region_51: 0.0001 +/- 0.0000\n",
      "state_42: 0.0001 +/- 0.0000\n",
      "region_31: 0.0001 +/- 0.0000\n",
      "region_210: 0.0001 +/- 0.0000\n",
      "region_400: 0.0001 +/- 0.0000\n",
      "region_169: 0.0001 +/- 0.0000\n",
      "manufacturer_0: 0.0001 +/- 0.0000\n",
      "region_289: 0.0001 +/- 0.0000\n",
      "region_318: 0.0001 +/- 0.0000\n",
      "region_286: 0.0001 +/- 0.0000\n",
      "region_112: 0.0001 +/- 0.0000\n",
      "region_239: 0.0001 +/- 0.0000\n",
      "region_94: 0.0001 +/- 0.0000\n",
      "region_11: 0.0001 +/- 0.0000\n",
      "region_218: 0.0001 +/- 0.0000\n",
      "region_101: 0.0001 +/- 0.0000\n",
      "region_373: 0.0001 +/- 0.0000\n",
      "region_6: 0.0001 +/- 0.0000\n",
      "region_256: 0.0001 +/- 0.0000\n",
      "region_211: 0.0001 +/- 0.0000\n",
      "region_231: 0.0001 +/- 0.0000\n",
      "state_30: 0.0001 +/- 0.0000\n",
      "region_280: 0.0001 +/- 0.0000\n",
      "region_403: 0.0001 +/- 0.0000\n",
      "region_254: 0.0001 +/- 0.0000\n",
      "region_43: 0.0001 +/- 0.0000\n",
      "region_277: 0.0001 +/- 0.0000\n",
      "region_375: 0.0001 +/- 0.0000\n",
      "state_46: 0.0001 +/- 0.0000\n",
      "region_394: 0.0001 +/- 0.0000\n",
      "region_233: 0.0001 +/- 0.0000\n",
      "region_294: 0.0001 +/- 0.0000\n",
      "fuel_4: 0.0001 +/- 0.0000\n",
      "region_258: 0.0001 +/- 0.0000\n",
      "state_21: 0.0001 +/- 0.0000\n",
      "region_203: 0.0001 +/- 0.0000\n",
      "state_32: 0.0001 +/- 0.0000\n",
      "region_65: 0.0001 +/- 0.0000\n",
      "state_39: 0.0001 +/- 0.0000\n",
      "region_287: 0.0001 +/- 0.0000\n",
      "region_360: 0.0001 +/- 0.0000\n",
      "region_356: 0.0001 +/- 0.0000\n",
      "region_227: 0.0001 +/- 0.0000\n",
      "region_108: 0.0001 +/- 0.0000\n",
      "region_273: 0.0001 +/- 0.0000\n",
      "region_278: 0.0000 +/- 0.0000\n",
      "state_49: 0.0000 +/- 0.0000\n",
      "region_175: 0.0000 +/- 0.0000\n",
      "region_272: 0.0000 +/- 0.0000\n",
      "region_130: 0.0000 +/- 0.0000\n",
      "region_195: 0.0000 +/- 0.0000\n",
      "region_296: 0.0000 +/- 0.0000\n",
      "region_15: 0.0000 +/- 0.0000\n",
      "region_247: 0.0000 +/- 0.0000\n",
      "region_374: 0.0000 +/- 0.0000\n",
      "region_202: 0.0000 +/- 0.0000\n",
      "region_8: 0.0000 +/- 0.0000\n",
      "region_313: 0.0000 +/- 0.0000\n",
      "region_157: 0.0000 +/- 0.0000\n",
      "region_164: 0.0000 +/- 0.0000\n",
      "region_310: 0.0000 +/- 0.0000\n",
      "region_379: 0.0000 +/- 0.0000\n",
      "state_7: 0.0000 +/- 0.0000\n",
      "region_357: 0.0000 +/- 0.0000\n",
      "region_282: 0.0000 +/- 0.0000\n",
      "region_174: 0.0000 +/- 0.0000\n",
      "region_225: 0.0000 +/- 0.0000\n",
      "region_183: 0.0000 +/- 0.0000\n",
      "region_17: 0.0000 +/- 0.0000\n",
      "region_281: 0.0000 +/- 0.0000\n",
      "region_181: 0.0000 +/- 0.0000\n",
      "region_148: 0.0000 +/- 0.0000\n",
      "region_344: 0.0000 +/- 0.0000\n",
      "region_260: 0.0000 +/- 0.0000\n",
      "region_133: 0.0000 +/- 0.0000\n",
      "region_120: 0.0000 +/- 0.0000\n",
      "region_29: 0.0000 +/- 0.0000\n",
      "state_44: 0.0000 +/- 0.0000\n",
      "region_316: 0.0000 +/- 0.0000\n",
      "region_275: 0.0000 +/- 0.0000\n",
      "region_396: 0.0000 +/- 0.0000\n",
      "region_105: 0.0000 +/- 0.0000\n",
      "region_72: 0.0000 +/- 0.0000\n",
      "region_359: 0.0000 +/- 0.0000\n",
      "region_70: 0.0000 +/- 0.0000\n",
      "manufacturer_2: 0.0000 +/- 0.0000\n",
      "region_259: 0.0000 +/- 0.0000\n",
      "region_12: 0.0000 +/- 0.0000\n",
      "region_45: 0.0000 +/- 0.0000\n",
      "region_389: 0.0000 +/- 0.0000\n",
      "region_347: 0.0000 +/- 0.0000\n",
      "region_22: 0.0000 +/- 0.0000\n",
      "region_355: 0.0000 +/- 0.0000\n",
      "region_314: 0.0000 +/- 0.0000\n",
      "region_111: 0.0000 +/- 0.0000\n",
      "region_363: 0.0000 +/- 0.0000\n",
      "region_244: 0.0000 +/- 0.0000\n",
      "region_351: 0.0000 +/- 0.0000\n",
      "region_199: 0.0000 +/- 0.0000\n",
      "region_53: 0.0000 +/- 0.0000\n",
      "region_142: 0.0000 +/- 0.0000\n",
      "region_276: 0.0000 +/- 0.0000\n",
      "region_7: 0.0000 +/- 0.0000\n",
      "region_200: 0.0000 +/- 0.0000\n",
      "region_361: 0.0000 +/- 0.0000\n",
      "region_290: 0.0000 +/- 0.0000\n",
      "state_43: 0.0000 +/- 0.0000\n",
      "region_93: 0.0000 +/- 0.0000\n",
      "region_57: 0.0000 +/- 0.0000\n",
      "region_377: 0.0000 +/- 0.0000\n",
      "region_109: 0.0000 +/- 0.0000\n",
      "region_21: 0.0000 +/- 0.0000\n",
      "state_1: 0.0000 +/- 0.0000\n",
      "region_85: 0.0000 +/- 0.0000\n",
      "region_252: 0.0000 +/- 0.0000\n",
      "region_159: 0.0000 +/- 0.0000\n",
      "region_292: 0.0000 +/- 0.0000\n",
      "region_401: 0.0000 +/- 0.0000\n",
      "region_162: 0.0000 +/- 0.0000\n",
      "region_122: 0.0000 +/- 0.0000\n",
      "region_71: 0.0000 +/- 0.0000\n",
      "region_137: 0.0000 +/- 0.0000\n",
      "region_384: 0.0000 +/- 0.0000\n",
      "region_387: 0.0000 +/- 0.0000\n",
      "region_309: 0.0000 +/- 0.0000\n",
      "region_140: 0.0000 +/- 0.0000\n",
      "region_141: 0.0000 +/- 0.0000\n",
      "region_68: 0.0000 +/- 0.0000\n",
      "region_176: 0.0000 +/- 0.0000\n",
      "region_60: 0.0000 +/- 0.0000\n",
      "region_161: 0.0000 +/- 0.0000\n",
      "region_208: 0.0000 +/- 0.0000\n",
      "state_24: 0.0000 +/- 0.0000\n",
      "region_180: 0.0000 +/- 0.0000\n",
      "region_76: 0.0000 +/- 0.0000\n",
      "region_10: 0.0000 +/- 0.0000\n",
      "region_212: 0.0000 +/- 0.0000\n",
      "region_253: 0.0000 +/- 0.0000\n",
      "region_38: 0.0000 +/- 0.0000\n",
      "region_235: 0.0000 +/- 0.0000\n",
      "region_136: 0.0000 +/- 0.0000\n",
      "region_117: 0.0000 +/- 0.0000\n",
      "region_345: 0.0000 +/- 0.0000\n",
      "region_80: 0.0000 +/- 0.0000\n",
      "region_307: 0.0000 +/- 0.0000\n",
      "region_46: 0.0000 +/- 0.0000\n",
      "region_319: 0.0000 +/- 0.0000\n",
      "state_33: 0.0000 +/- 0.0000\n",
      "region_179: 0.0000 +/- 0.0000\n",
      "region_0: 0.0000 +/- 0.0000\n",
      "region_223: 0.0000 +/- 0.0000\n",
      "region_398: 0.0000 +/- 0.0000\n",
      "region_205: 0.0000 +/- 0.0000\n",
      "region_124: 0.0000 +/- 0.0000\n",
      "region_215: 0.0000 +/- 0.0000\n",
      "region_39: 0.0000 +/- 0.0000\n",
      "region_216: 0.0000 +/- 0.0000\n",
      "region_66: 0.0000 +/- 0.0000\n",
      "region_145: 0.0000 +/- 0.0000\n",
      "region_264: 0.0000 +/- 0.0000\n",
      "region_219: 0.0000 +/- 0.0000\n",
      "region_173: 0.0000 +/- 0.0000\n",
      "region_349: 0.0000 +/- 0.0000\n",
      "region_352: 0.0000 +/- 0.0000\n",
      "region_36: 0.0000 +/- 0.0000\n",
      "region_125: 0.0000 +/- 0.0000\n",
      "region_184: 0.0000 +/- 0.0000\n",
      "manufacturer_21: 0.0000 +/- 0.0000\n",
      "manufacturer_30: 0.0000 +/- 0.0000\n",
      "state_28: 0.0000 +/- 0.0000\n",
      "region_378: 0.0000 +/- 0.0000\n",
      "region_382: 0.0000 +/- 0.0000\n",
      "region_190: 0.0000 +/- 0.0000\n",
      "region_332: 0.0000 +/- 0.0000\n",
      "region_79: 0.0000 +/- 0.0000\n",
      "state_8: 0.0000 +/- 0.0000\n",
      "region_138: 0.0000 +/- 0.0000\n",
      "region_23: 0.0000 +/- 0.0000\n",
      "region_300: 0.0000 +/- 0.0000\n",
      "region_129: 0.0000 +/- 0.0000\n",
      "region_323: 0.0000 +/- 0.0000\n",
      "region_32: 0.0000 +/- 0.0000\n",
      "region_64: 0.0000 +/- 0.0000\n",
      "region_224: 0.0000 +/- 0.0000\n",
      "region_322: 0.0000 +/- 0.0000\n",
      "region_339: 0.0000 +/- 0.0000\n",
      "region_207: 0.0000 +/- 0.0000\n",
      "region_369: 0.0000 +/- 0.0000\n",
      "region_131: 0.0000 +/- 0.0000\n",
      "region_54: 0.0000 +/- 0.0000\n",
      "region_170: 0.0000 +/- 0.0000\n",
      "region_353: 0.0000 +/- 0.0000\n",
      "region_246: 0.0000 +/- 0.0000\n",
      "region_237: 0.0000 +/- 0.0000\n",
      "region_62: 0.0000 +/- 0.0000\n",
      "region_266: 0.0000 +/- 0.0000\n",
      "region_279: 0.0000 +/- 0.0000\n",
      "region_149: 0.0000 +/- 0.0000\n",
      "region_325: 0.0000 +/- 0.0000\n",
      "region_338: 0.0000 +/- 0.0000\n",
      "region_243: 0.0000 +/- 0.0000\n",
      "region_113: 0.0000 +/- 0.0000\n",
      "region_9: 0.0000 +/- 0.0000\n",
      "region_291: 0.0000 +/- 0.0000\n",
      "state_16: 0.0000 +/- 0.0000\n",
      "region_334: 0.0000 +/- 0.0000\n",
      "region_297: 0.0000 +/- 0.0000\n",
      "region_97: 0.0000 +/- 0.0000\n",
      "region_35: 0.0000 +/- 0.0000\n",
      "region_126: 0.0000 +/- 0.0000\n",
      "state_36: 0.0000 +/- 0.0000\n",
      "region_365: 0.0000 +/- 0.0000\n",
      "region_84: 0.0000 +/- 0.0000\n",
      "region_336: 0.0000 +/- 0.0000\n",
      "region_230: 0.0000 +/- 0.0000\n",
      "region_331: 0.0000 +/- 0.0000\n",
      "region_251: 0.0000 +/- 0.0000\n",
      "region_144: 0.0000 +/- 0.0000\n",
      "region_83: 0.0000 +/- 0.0000\n",
      "region_317: 0.0000 +/- 0.0000\n",
      "region_186: 0.0000 +/- 0.0000\n",
      "region_18: 0.0000 +/- 0.0000\n",
      "region_187: 0.0000 +/- 0.0000\n",
      "region_75: 0.0000 +/- 0.0000\n",
      "region_52: 0.0000 +/- 0.0000\n",
      "region_346: 0.0000 +/- 0.0000\n",
      "state_27: 0.0000 +/- 0.0000\n",
      "region_330: 0.0000 +/- 0.0000\n",
      "region_385: 0.0000 +/- 0.0000\n",
      "region_25: 0.0000 +/- 0.0000\n",
      "region_104: 0.0000 +/- 0.0000\n",
      "region_102: 0.0000 +/- 0.0000\n",
      "region_89: 0.0000 +/- 0.0000\n",
      "region_390: 0.0000 +/- 0.0000\n",
      "region_329: 0.0000 +/- 0.0000\n",
      "region_214: 0.0000 +/- 0.0000\n",
      "region_160: 0.0000 +/- 0.0000\n",
      "region_127: 0.0000 +/- 0.0000\n",
      "region_50: 0.0000 +/- 0.0000\n",
      "region_98: 0.0000 +/- 0.0000\n",
      "region_354: 0.0000 +/- 0.0000\n",
      "region_106: 0.0000 +/- 0.0000\n",
      "region_228: 0.0000 +/- 0.0000\n",
      "region_16: 0.0000 +/- 0.0000\n",
      "region_267: 0.0000 +/- 0.0000\n",
      "region_166: 0.0000 +/- 0.0000\n",
      "region_283: 0.0000 +/- 0.0000\n",
      "region_30: 0.0000 +/- 0.0000\n",
      "region_270: 0.0000 +/- 0.0000\n",
      "region_172: 0.0000 +/- 0.0000\n",
      "region_196: 0.0000 +/- 0.0000\n",
      "region_217: 0.0000 +/- 0.0000\n",
      "region_171: 0.0000 +/- 0.0000\n",
      "region_163: 0.0000 +/- 0.0000\n",
      "region_222: 0.0000 +/- 0.0000\n",
      "region_42: 0.0000 +/- 0.0000\n",
      "region_335: 0.0000 +/- 0.0000\n",
      "region_41: 0.0000 +/- 0.0000\n",
      "region_115: 0.0000 +/- 0.0000\n",
      "region_44: 0.0000 +/- 0.0000\n",
      "region_248: 0.0000 +/- 0.0000\n",
      "region_47: 0.0000 +/- 0.0000\n",
      "region_381: 0.0000 +/- 0.0000\n",
      "region_49: 0.0000 +/- 0.0000\n",
      "region_78: 0.0000 +/- 0.0000\n",
      "region_119: 0.0000 +/- 0.0000\n",
      "region_362: 0.0000 +/- 0.0000\n",
      "region_261: 0.0000 +/- 0.0000\n",
      "1: 0.0000 +/- 0.0000\n",
      "manufacturer_10: 0.0000 +/- 0.0000\n",
      "region_81: -0.0000 +/- 0.0000\n",
      "region_103: -0.0000 +/- 0.0000\n",
      "region_188: -0.0000 +/- 0.0000\n",
      "region_107: -0.0000 +/- 0.0000\n",
      "region_55: -0.0000 +/- 0.0000\n",
      "region_257: -0.0000 +/- 0.0000\n",
      "region_95: -0.0000 +/- 0.0000\n",
      "region_343: -0.0000 +/- 0.0000\n",
      "region_213: -0.0000 +/- 0.0000\n",
      "region_326: -0.0000 +/- 0.0000\n",
      "region_156: -0.0000 +/- 0.0000\n",
      "region_249: -0.0000 +/- 0.0000\n",
      "region_312: -0.0000 +/- 0.0000\n",
      "region_165: -0.0000 +/- 0.0000\n",
      "region_393: -0.0000 +/- 0.0000\n",
      "region_242: -0.0000 +/- 0.0000\n",
      "region_327: -0.0000 +/- 0.0000\n",
      "region_27: -0.0000 +/- 0.0000\n",
      "region_350: -0.0000 +/- 0.0000\n",
      "region_177: -0.0000 +/- 0.0000\n",
      "type_1: -0.0000 +/- 0.0000\n",
      "region_380: -0.0000 +/- 0.0000\n",
      "region_110: -0.0000 +/- 0.0000\n",
      "region_88: -0.0000 +/- 0.0000\n",
      "region_73: -0.0000 +/- 0.0000\n",
      "manufacturer_26: -0.0000 +/- 0.0000\n",
      "region_134: -0.0000 +/- 0.0000\n",
      "region_69: -0.0000 +/- 0.0000\n",
      "region_397: -0.0000 +/- 0.0000\n",
      "state_50: -0.0000 +/- 0.0000\n",
      "region_358: -0.0000 +/- 0.0000\n",
      "region_123: -0.0000 +/- 0.0000\n",
      "region_146: -0.0000 +/- 0.0000\n",
      "region_388: -0.0000 +/- 0.0000\n",
      "region_391: -0.0000 +/- 0.0000\n",
      "region_302: -0.0000 +/- 0.0000\n",
      "region_303: -0.0000 +/- 0.0000\n",
      "region_221: -0.0000 +/- 0.0000\n",
      "region_293: -0.0000 +/- 0.0000\n",
      "region_308: -0.0000 +/- 0.0000\n",
      "region_114: -0.0000 +/- 0.0000\n",
      "region_185: -0.0000 +/- 0.0000\n",
      "region_77: -0.0000 +/- 0.0000\n",
      "region_63: -0.0000 +/- 0.0000\n",
      "region_376: -0.0000 +/- 0.0000\n",
      "state_25: -0.0000 +/- 0.0000\n",
      "region_342: -0.0000 +/- 0.0000\n",
      "region_341: -0.0000 +/- 0.0000\n",
      "region_155: -0.0000 +/- 0.0000\n",
      "region_328: -0.0000 +/- 0.0000\n",
      "region_306: -0.0000 +/- 0.0000\n",
      "region_285: -0.0000 +/- 0.0000\n",
      "region_372: -0.0000 +/- 0.0000\n",
      "region_305: -0.0000 +/- 0.0000\n",
      "region_299: -0.0000 +/- 0.0000\n",
      "region_82: -0.0000 +/- 0.0000\n",
      "region_333: -0.0000 +/- 0.0000\n",
      "region_1: -0.0000 +/- 0.0000\n",
      "state_41: -0.0000 +/- 0.0000\n",
      "region_366: -0.0000 +/- 0.0000\n",
      "region_167: -0.0000 +/- 0.0000\n",
      "region_151: -0.0000 +/- 0.0000\n",
      "region_229: -0.0000 +/- 0.0000\n",
      "region_92: -0.0000 +/- 0.0000\n",
      "region_371: -0.0000 +/- 0.0000\n",
      "title_status_2: -0.0000 +/- 0.0000\n",
      "region_48: -0.0000 +/- 0.0000\n",
      "region_238: -0.0000 +/- 0.0000\n",
      "region_90: -0.0000 +/- 0.0000\n",
      "region_337: -0.0000 +/- 0.0000\n",
      "region_158: -0.0000 +/- 0.0000\n",
      "transmission_1: -0.0000 +/- 0.0000\n",
      "region_370: -0.0000 +/- 0.0000\n",
      "region_234: -0.0000 +/- 0.0000\n",
      "region_204: -0.0000 +/- 0.0000\n",
      "region_295: -0.0000 +/- 0.0000\n",
      "region_274: -0.0000 +/- 0.0000\n",
      "region_395: -0.0000 +/- 0.0000\n",
      "region_28: -0.0000 +/- 0.0000\n",
      "region_154: -0.0000 +/- 0.0000\n",
      "region_100: -0.0000 +/- 0.0000\n",
      "region_121: -0.0000 +/- 0.0000\n",
      "region_143: -0.0000 +/- 0.0000\n",
      "region_250: -0.0000 +/- 0.0000\n",
      "manufacturer_14: -0.0000 +/- 0.0000\n",
      "region_241: -0.0000 +/- 0.0000\n",
      "region_4: -0.0000 +/- 0.0000\n"
     ]
    }
   ],
   "source": [
    "from sklearn.inspection import permutation_importance\n",
    "\n",
    "# Compute permutation importance\n",
    "perm_importance = permutation_importance(model, X_test_poly, y_test, n_repeats=10, random_state=42)\n",
    "\n",
    "# Get feature names\n",
    "feature_names = poly.get_feature_names_out(X.columns)\n",
    "\n",
    "# Sort features by their importance\n",
    "sorted_indices = perm_importance.importances_mean.argsort()[::-1]\n",
    "\n",
    "# Print the permutation importance of each feature\n",
    "print(\"Permutation Importance:\")\n",
    "for idx in sorted_indices:\n",
    "    print(f\"{feature_names[idx]}: {perm_importance.importances_mean[idx]:.4f} +/- {perm_importance.importances_std[idx]:.4f}\")\n"
   ]
  },
  {
   "cell_type": "code",
   "execution_count": 411,
   "metadata": {
    "tags": []
   },
   "outputs": [
    {
     "data": {
      "image/png": "[encoded data removed]",
      "text/plain": [
       "<Figure size 1000x600 with 1 Axes>"
      ]
     },
     "metadata": {},
     "output_type": "display_data"
    }
   ],
   "source": [
    "# Plot the permutation importance of top N features\n",
    "N = 10  # Number of top features to plot\n",
    "top_feature_indices = sorted_indices[:N]\n",
    "top_feature_names = [feature_names[idx] for idx in top_feature_indices]\n",
    "top_importances = perm_importance.importances_mean[top_feature_indices]\n",
    "\n",
    "plt.figure(figsize=(10, 6))\n",
    "plt.bar(range(N), top_importances, yerr=perm_importance.importances_std[top_feature_indices])\n",
    "plt.xticks(range(N), top_feature_names, rotation=90)\n",
    "plt.xlabel('Feature')\n",
    "plt.ylabel('Permutation Importance')\n",
    "plt.title(f'Top {N} Permutation Importances of Features')\n",
    "plt.tight_layout()\n",
    "plt.show()\n"
   ]
  },
  {
   "cell_type": "code",
   "execution_count": 417,
   "metadata": {
    "tags": []
   },
   "outputs": [
    {
     "ename": "NameError",
     "evalue": "name 'train_df' is not defined",
     "output_type": "error",
     "traceback": [
      "\u001b[1;31m---------------------------------------------------------------------------\u001b[0m",
      "\u001b[1;31mNameError\u001b[0m                                 Traceback (most recent call last)",
      "Cell \u001b[1;32mIn[417], line 9\u001b[0m\n\u001b[0;32m      7\u001b[0m \u001b[38;5;28;01mfrom\u001b[39;00m \u001b[38;5;21;01msklearn\u001b[39;00m \u001b[38;5;28;01mimport\u001b[39;00m set_config\n\u001b[0;32m      8\u001b[0m selector \u001b[38;5;241m=\u001b[39m SequentialFeatureSelector(LinearRegression(), n_features_to_select\u001b[38;5;241m=\u001b[39m\u001b[38;5;241m3\u001b[39m)\n\u001b[1;32m----> 9\u001b[0m best_features \u001b[38;5;241m=\u001b[39m selector\u001b[38;5;241m.\u001b[39mfit_transform(train_df, y_train)\n\u001b[0;32m     10\u001b[0m best_features_df \u001b[38;5;241m=\u001b[39m pd\u001b[38;5;241m.\u001b[39mDataFrame(best_features, columns \u001b[38;5;241m=\u001b[39m selector\u001b[38;5;241m.\u001b[39mget_feature_names_out())\n\u001b[0;32m     12\u001b[0m best_features_df\u001b[38;5;241m.\u001b[39mhead()\n",
      "\u001b[1;31mNameError\u001b[0m: name 'train_df' is not defined"
     ]
    }
   ],
   "source": []
  },
  {
   "cell_type": "markdown",
   "metadata": {},
   "source": [
    "### Evaluation\n",
    "\n",
    "With some modeling accomplished, we aim to reflect on what we identify as a high quality model and what we are able to learn from this.  We should review our business objective and explore how well we can provide meaningful insight on drivers of used car prices.  Your goal now is to distill your findings and determine whether the earlier phases need revisitation and adjustment or if you have information of value to bring back to your client."
   ]
  },
  {
   "cell_type": "code",
   "execution_count": null,
   "metadata": {},
   "outputs": [],
   "source": []
  },
  {
   "cell_type": "code",
   "execution_count": null,
   "metadata": {},
   "outputs": [],
   "source": []
  },
  {
   "cell_type": "code",
   "execution_count": null,
   "metadata": {},
   "outputs": [],
   "source": []
  },
  {
   "cell_type": "code",
   "execution_count": null,
   "metadata": {},
   "outputs": [],
   "source": []
  },
  {
   "cell_type": "code",
   "execution_count": null,
   "metadata": {},
   "outputs": [],
   "source": []
  },
  {
   "cell_type": "markdown",
   "metadata": {},
   "source": [
    "### Deployment\n",
    "\n",
    "Now that we've settled on our models and findings, it is time to deliver the information to the client.  You should organize your work as a basic report that details your primary findings.  Keep in mind that your audience is a group of used car dealers interested in fine tuning their inventory."
   ]
  },
  {
   "cell_type": "code",
   "execution_count": null,
   "metadata": {},
   "outputs": [],
   "source": []
  },
  {
   "cell_type": "code",
   "execution_count": null,
   "metadata": {},
   "outputs": [],
   "source": []
  },
  {
   "cell_type": "code",
   "execution_count": null,
   "metadata": {},
   "outputs": [],
   "source": []
  },
  {
   "cell_type": "code",
   "execution_count": null,
   "metadata": {},
   "outputs": [],
   "source": []
  },
  {
   "cell_type": "code",
   "execution_count": null,
   "metadata": {},
   "outputs": [],
   "source": []
  },
  {
   "cell_type": "code",
   "execution_count": null,
   "metadata": {},
   "outputs": [],
   "source": []
  },
  {
   "cell_type": "code",
   "execution_count": null,
   "metadata": {},
   "outputs": [],
   "source": []
  }
 ],
 "metadata": {
  "kernelspec": {
   "display_name": "Python 3 (ipykernel)",
   "language": "python",
   "name": "python3"
  },
  "language_info": {
   "codemirror_mode": {
    "name": "ipython",
    "version": 3
   },
   "file_extension": ".py",
   "mimetype": "text/x-python",
   "name": "python",
   "nbconvert_exporter": "python",
   "pygments_lexer": "ipython3",
   "version": "3.11.5"
  },
  "widgets": {
   "application/vnd.jupyter.widget-state+json": {
    "state": {},
    "version_major": 2,
    "version_minor": 0
   }
  }
 },
 "nbformat": 4,
 "nbformat_minor": 4
}
